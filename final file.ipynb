{
 "cells": [
  {
   "cell_type": "code",
   "execution_count": 2,
   "metadata": {
    "colab": {
     "base_uri": "https://localhost:8080/"
    },
    "id": "Pneow9NJ-Iei",
    "outputId": "ac9353b0-41ac-4147-8686-b906c13c9b12"
   },
   "outputs": [],
   "source": [
    "from pyspark.sql import SparkSession\n",
    "\n",
    "# Core Libraries\n",
    "import pandas as pd\n",
    "import numpy as np\n",
    "import random\n",
    "import matplotlib.pyplot as plt\n",
    "from matplotlib.colors import LinearSegmentedColormap\n",
    "import seaborn as sns\n",
    "%matplotlib inline\n",
    "\n",
    "# Set color palette for Seaborn\n",
    "colors = [\"#26536f\", \"#3b96b7\", \"#749ca8\", \"#b6a98d\", \"#c78a4d\", \"#854927\"]\n",
    "sns.set_palette(colors)\n",
    "\n",
    "# Machine Learning Libraries\n",
    "from sklearn.feature_extraction.text import TfidfVectorizer\n",
    "from sklearn.preprocessing import LabelEncoder, label_binarize\n",
    "from sklearn.model_selection import train_test_split\n",
    "from sklearn.svm import SVC\n",
    "from sklearn.linear_model import LogisticRegression\n",
    "from sklearn.naive_bayes import GaussianNB\n",
    "from sklearn.tree import DecisionTreeClassifier\n",
    "from sklearn.ensemble import (\n",
    "    AdaBoostClassifier, GradientBoostingClassifier, RandomForestClassifier\n",
    ")\n",
    "from sklearn.neighbors import KNeighborsClassifier\n",
    "from xgboost import XGBClassifier\n",
    "from lightgbm import LGBMClassifier\n",
    "\n",
    "# Evaluation Metrics\n",
    "from sklearn.metrics import (\n",
    "    accuracy_score, precision_score, recall_score, f1_score, classification_report,\n",
    "    confusion_matrix, roc_curve, roc_auc_score, ConfusionMatrixDisplay, auc\n",
    ")"
   ]
  },
  {
   "cell_type": "code",
   "execution_count": 3,
   "metadata": {
    "id": "3OBopXnU-YPu"
   },
   "outputs": [],
   "source": [
    "# Create a Spark session\n",
    "spark = SparkSession.builder.appName(\"Ecommerce_Analysis\").getOrCreate()"
   ]
  },
  {
   "cell_type": "code",
   "execution_count": 4,
   "metadata": {
    "id": "PG1NdFrL-Vol"
   },
   "outputs": [],
   "source": [
    "# Load the dataset (Replace 'dataset.csv' with the actual file path)\n",
    "df = spark.read.csv(\"Ecommerce.csv\", header=True, inferSchema=True)"
   ]
  },
  {
   "cell_type": "code",
   "execution_count": 5,
   "metadata": {
    "colab": {
     "base_uri": "https://localhost:8080/"
    },
    "id": "J-Bd95I2-SPm",
    "outputId": "a6ba2e6d-15f1-43af-fbab-0db2129a4b7f"
   },
   "outputs": [
    {
     "name": "stdout",
     "output_type": "stream",
     "text": [
      "root\n",
      " |-- order_id: string (nullable = true)\n",
      " |-- customer_id: string (nullable = true)\n",
      " |-- order_status: string (nullable = true)\n",
      " |-- order_purchase_timestamp: string (nullable = true)\n",
      " |-- order_approved_at: string (nullable = true)\n",
      " |-- order_delivered_carrier_date: string (nullable = true)\n",
      " |-- order_delivered_customer_date: string (nullable = true)\n",
      " |-- order_estimated_delivery_date: string (nullable = true)\n",
      " |-- order_item_id: double (nullable = true)\n",
      " |-- product_id: string (nullable = true)\n",
      " |-- seller_id: string (nullable = true)\n",
      " |-- shipping_limit_date: string (nullable = true)\n",
      " |-- price: string (nullable = true)\n",
      " |-- freight_value: string (nullable = true)\n",
      " |-- payment_sequential: string (nullable = true)\n",
      " |-- payment_type: string (nullable = true)\n",
      " |-- payment_installments: string (nullable = true)\n",
      " |-- payment_value: string (nullable = true)\n",
      " |-- review_id: string (nullable = true)\n",
      " |-- review_score: string (nullable = true)\n",
      " |-- review_comment_title: string (nullable = true)\n",
      " |-- review_comment_message: string (nullable = true)\n",
      " |-- review_creation_date: string (nullable = true)\n",
      " |-- review_answer_timestamp: string (nullable = true)\n",
      " |-- product_category_name: string (nullable = true)\n",
      " |-- product_name_lenght: string (nullable = true)\n",
      " |-- product_description_lenght: string (nullable = true)\n",
      " |-- product_photos_qty: string (nullable = true)\n",
      " |-- product_weight_g: double (nullable = true)\n",
      " |-- product_length_cm: double (nullable = true)\n",
      " |-- product_height_cm: double (nullable = true)\n",
      " |-- product_width_cm: double (nullable = true)\n",
      " |-- customer_unique_id: string (nullable = true)\n",
      " |-- customer_zip_code_prefix: string (nullable = true)\n",
      " |-- customer_city: string (nullable = true)\n",
      " |-- customer_state: string (nullable = true)\n",
      " |-- seller_zip_code_prefix: string (nullable = true)\n",
      " |-- seller_city: string (nullable = true)\n",
      " |-- seller_state: string (nullable = true)\n",
      "\n"
     ]
    }
   ],
   "source": [
    "# Display schema to check data types\n",
    "df.printSchema()"
   ]
  },
  {
   "cell_type": "code",
   "execution_count": 6,
   "metadata": {
    "colab": {
     "base_uri": "https://localhost:8080/"
    },
    "id": "LYjT9IuX7sRk",
    "outputId": "b767aecc-f961-4a78-f189-5839e0fd470c"
   },
   "outputs": [
    {
     "data": {
      "text/plain": [
       "123553"
      ]
     },
     "execution_count": 6,
     "metadata": {},
     "output_type": "execute_result"
    }
   ],
   "source": [
    "df.count()"
   ]
  },
  {
   "cell_type": "code",
   "execution_count": 7,
   "metadata": {
    "colab": {
     "base_uri": "https://localhost:8080/"
    },
    "id": "n1Y88JF--Ppw",
    "outputId": "cd68ed26-2b10-479b-c4a7-082455be7ad8"
   },
   "outputs": [
    {
     "name": "stdout",
     "output_type": "stream",
     "text": [
      "+--------------------+--------------------+------------+------------------------+-------------------+----------------------------+-----------------------------+-----------------------------+-------------+--------------------+--------------------+-------------------+------+-------------+------------------+------------+--------------------+-------------+--------------------+------------+--------------------+----------------------+--------------------+-----------------------+---------------------+-------------------+--------------------------+------------------+----------------+-----------------+-----------------+----------------+--------------------+------------------------+--------------------+--------------+----------------------+--------------------+------------+\n",
      "|            order_id|         customer_id|order_status|order_purchase_timestamp|  order_approved_at|order_delivered_carrier_date|order_delivered_customer_date|order_estimated_delivery_date|order_item_id|          product_id|           seller_id|shipping_limit_date| price|freight_value|payment_sequential|payment_type|payment_installments|payment_value|           review_id|review_score|review_comment_title|review_comment_message|review_creation_date|review_answer_timestamp|product_category_name|product_name_lenght|product_description_lenght|product_photos_qty|product_weight_g|product_length_cm|product_height_cm|product_width_cm|  customer_unique_id|customer_zip_code_prefix|       customer_city|customer_state|seller_zip_code_prefix|         seller_city|seller_state|\n",
      "+--------------------+--------------------+------------+------------------------+-------------------+----------------------------+-----------------------------+-----------------------------+-------------+--------------------+--------------------+-------------------+------+-------------+------------------+------------+--------------------+-------------+--------------------+------------+--------------------+----------------------+--------------------+-----------------------+---------------------+-------------------+--------------------------+------------------+----------------+-----------------+-----------------+----------------+--------------------+------------------------+--------------------+--------------+----------------------+--------------------+------------+\n",
      "|e481f51cbdc54678b...|9ef432eb625129730...|   delivered|     2017-10-02 10:56:33|2017-10-02 11:07:15|         2017-10-04 19:55:00|          2017-10-10 21:25:13|          2017-10-18 00:00:00|          1.0|87285b34884572647...|3504c0cb71d7fa48d...|2017-10-06 11:07:15| 29.99|         8.72|                 1| credit_card|                   1|        18.12|a54f0611adc9ed256...|           4|                NULL|  Não testei o prod...| 2017-10-11 00:00:00|    2017-10-12 03:43:48| utilidades_domest...|               40.0|                     268.0|               4.0|           500.0|             19.0|              8.0|            13.0|7c396fd4830fd0422...|                    3149|           sao paulo|            SP|                  9350|                maua|          SP|\n",
      "|e481f51cbdc54678b...|9ef432eb625129730...|   delivered|     2017-10-02 10:56:33|2017-10-02 11:07:15|         2017-10-04 19:55:00|          2017-10-10 21:25:13|          2017-10-18 00:00:00|          1.0|87285b34884572647...|3504c0cb71d7fa48d...|2017-10-06 11:07:15| 29.99|         8.72|                 3|     voucher|                   1|          2.0|a54f0611adc9ed256...|           4|                NULL|  Não testei o prod...| 2017-10-11 00:00:00|    2017-10-12 03:43:48| utilidades_domest...|               40.0|                     268.0|               4.0|           500.0|             19.0|              8.0|            13.0|7c396fd4830fd0422...|                    3149|           sao paulo|            SP|                  9350|                maua|          SP|\n",
      "|e481f51cbdc54678b...|9ef432eb625129730...|   delivered|     2017-10-02 10:56:33|2017-10-02 11:07:15|         2017-10-04 19:55:00|          2017-10-10 21:25:13|          2017-10-18 00:00:00|          1.0|87285b34884572647...|3504c0cb71d7fa48d...|2017-10-06 11:07:15| 29.99|         8.72|                 2|     voucher|                   1|        18.59|a54f0611adc9ed256...|           4|                NULL|  Não testei o prod...| 2017-10-11 00:00:00|    2017-10-12 03:43:48| utilidades_domest...|               40.0|                     268.0|               4.0|           500.0|             19.0|              8.0|            13.0|7c396fd4830fd0422...|                    3149|           sao paulo|            SP|                  9350|                maua|          SP|\n",
      "|53cdb2fc8bc7dce0b...|b0830fb4747a6c6d2...|   delivered|     2018-07-24 20:41:37|2018-07-26 03:24:27|         2018-07-26 14:31:00|          2018-08-07 15:27:45|          2018-08-13 00:00:00|          1.0|595fac2a385ac33a8...|289cdb325fb7e7f89...|2018-07-30 03:24:27| 118.7|        22.76|                 1|      boleto|                   1|       141.46|8d5266042046a0665...|           4|    Muito boa a loja|  Muito bom o produto.| 2018-08-08 00:00:00|    2018-08-08 18:37:50|           perfumaria|               29.0|                     178.0|               1.0|           400.0|             19.0|             13.0|            19.0|af07308b275d755c9...|                   47813|           barreiras|            BA|                 31570|      belo horizonte|          SP|\n",
      "|47770eb9100c2d0c4...|41ce2a54c0b03bf34...|   delivered|     2018-08-08 08:38:49|2018-08-08 08:55:23|         2018-08-08 13:50:00|          2018-08-17 18:06:29|          2018-09-04 00:00:00|          1.0|aa4383b373c6aca5d...|4869f7a5dfa277a7d...|2018-08-13 08:55:23| 159.9|        19.22|                 1| credit_card|                   3|       179.12|e73b67b67587f7644...|           5|                NULL|                  NULL| 2018-08-18 00:00:00|    2018-08-22 19:07:58|           automotivo|               46.0|                     232.0|               1.0|           420.0|             24.0|             19.0|            21.0|3a653a41f6f9fc3d2...|                   75265|          vianopolis|            GO|                 14840|             guariba|          SP|\n",
      "|949d5b44dbf5de918...|f88197465ea7920ad...|   delivered|     2017-11-18 19:28:06|2017-11-18 19:45:59|         2017-11-22 13:39:59|          2017-12-02 00:28:42|          2017-12-15 00:00:00|          1.0|d0b61bfb1de832b15...|66922902710d126a0...|2017-11-23 19:45:59|  45.0|         27.2|                 1| credit_card|                   1|         72.2|359d03e676b3c069f...|           5|                NULL|  O produto foi exa...| 2017-12-03 00:00:00|    2017-12-05 19:21:58|             pet_shop|               59.0|                     468.0|               3.0|           450.0|             30.0|             10.0|            20.0|7c142cf63193a1473...|                   59296|sao goncalo do am...|            RN|                 31842|      belo horizonte|          MG|\n",
      "|ad21c59c0840e6cb8...|8ab97904e6daea886...|   delivered|     2018-02-13 21:18:39|2018-02-13 22:20:29|         2018-02-14 19:46:34|          2018-02-16 18:17:02|          2018-02-26 00:00:00|          1.0|65266b2da20d04dbe...|2c9e548be18521d1c...|2018-02-19 20:31:37|  19.9|         8.72|                 1| credit_card|                   1|        28.62|e50934924e227544b...|           5|                NULL|                  NULL| 2018-02-17 00:00:00|    2018-02-18 13:02:51|            papelaria|               38.0|                     316.0|               4.0|           250.0|             51.0|             15.0|            15.0|72632f0f9dd73dfee...|                    9195|         santo andre|            SP|                  8752|     mogi das cruzes|          SP|\n",
      "|a4591c265e18cb1dc...|503740e9ca751ccdd...|   delivered|     2017-07-09 21:57:05|2017-07-09 22:10:13|         2017-07-11 14:58:04|          2017-07-26 10:57:55|          2017-08-01 00:00:00|          1.0|060cb19345d90064d...|8581055ce74af1dab...|2017-07-13 22:10:13| 147.9|        27.36|                 1| credit_card|                   6|       175.26|89b738e70a1ce346d...|           4|                NULL|                  NULL| 2017-07-27 00:00:00|    2017-07-27 22:48:30|           automotivo|               49.0|                     608.0|               1.0|          7150.0|             65.0|             10.0|            65.0|80bb27c7c16e8f973...|                   86320|        congonhinhas|            PR|                  7112|           guarulhos|          SP|\n",
      "|136cce7faa42fdb2c...|ed0271e0b7da060a3...|    invoiced|     2017-04-11 12:22:08|2017-04-13 13:25:17|                        NULL|                         NULL|          2017-05-09 00:00:00|          1.0|a1804276d9941ac07...|dc8798cbf453b7e0f...|2017-04-19 13:25:17|  49.9|        16.05|                 1| credit_card|                   1|        65.95|e07549ef5311abcc9...|           2|                NULL|  fiquei triste por...| 2017-05-13 00:00:00|    2017-05-13 20:25:42|                 NULL|               NULL|                      NULL|              NULL|           600.0|             35.0|             35.0|            15.0|36edbb3fb164b1f16...|                   98900|          santa rosa|            RS|                  5455|           sao paulo|          SP|\n",
      "|6514b8ad8028c9f2c...|9bdf08b4b3b52b552...|   delivered|     2017-05-16 13:10:30|2017-05-16 13:22:11|         2017-05-22 10:07:46|          2017-05-26 12:55:51|          2017-06-07 00:00:00|          1.0|4520766ec412348b8...|16090f2ca825584b5...|2017-05-22 13:22:11| 59.99|        15.17|                 1| credit_card|                   3|        75.16|07d67dd06ed5f88be...|           5|                NULL|                  NULL| 2017-05-27 00:00:00|    2017-05-28 02:59:57|           automotivo|               59.0|                     956.0|               1.0|            50.0|             16.0|             16.0|            17.0|932afa1e708222e58...|                   26525|           nilopolis|            RJ|                 12940|             atibaia|          SP|\n",
      "|76c6e866289321a7c...|f54a9f0e6b351c431...|   delivered|     2017-01-23 18:29:09|2017-01-25 02:50:47|         2017-01-26 14:16:31|          2017-02-02 14:08:10|          2017-03-06 00:00:00|          1.0|ac1789e492dcd698c...|63b9ae557efed31d1...|2017-01-27 18:29:09|  19.9|        16.05|                 1|      boleto|                   1|        35.95|fc4af8aea8ec3f1a3...|           1|                NULL|                  NULL| 2017-02-03 00:00:00|    2017-02-05 01:58:35|     moveis_decoracao|               41.0|                     432.0|               2.0|           300.0|             35.0|             35.0|            15.0|39382392765b6dc74...|                   99655|        faxinalzinho|            RS|                 13720|sao jose do rio p...|          SP|\n",
      "|e69bfb5eb88e0ed6a...|31ad1d1b63eb99624...|   delivered|     2017-07-29 11:55:02|2017-07-29 12:05:32|         2017-08-10 19:45:24|          2017-08-16 17:14:30|          2017-08-23 00:00:00|          1.0|9a78fb9862b10749a...|7c67e1448b00f6e96...|2017-08-11 12:05:32|149.99|        19.77|                 2|     voucher|                   1|       161.42|abc5655186d40772b...|           5|                NULL|                  NULL| 2017-08-17 00:00:00|    2017-08-18 01:47:32|    moveis_escritorio|               45.0|                     527.0|               1.0|          9750.0|             42.0|             41.0|            42.0|299905e3934e9e181...|                   18075|            sorocaba|            SP|                  8577|     itaquaquecetuba|          SP|\n",
      "|e69bfb5eb88e0ed6a...|31ad1d1b63eb99624...|   delivered|     2017-07-29 11:55:02|2017-07-29 12:05:32|         2017-08-10 19:45:24|          2017-08-16 17:14:30|          2017-08-23 00:00:00|          1.0|9a78fb9862b10749a...|7c67e1448b00f6e96...|2017-08-11 12:05:32|149.99|        19.77|                 1| credit_card|                   1|         8.34|abc5655186d40772b...|           5|                NULL|                  NULL| 2017-08-17 00:00:00|    2017-08-18 01:47:32|    moveis_escritorio|               45.0|                     527.0|               1.0|          9750.0|             42.0|             41.0|            42.0|299905e3934e9e181...|                   18075|            sorocaba|            SP|                  8577|     itaquaquecetuba|          SP|\n",
      "|e6ce16cb79ec1d90b...|494dded5b201313c6...|   delivered|     2017-05-16 19:41:10|2017-05-16 19:50:18|         2017-05-18 11:40:40|          2017-05-29 11:18:31|          2017-06-07 00:00:00|          1.0|08574b074924071f4...|001cca7ae9ae17fb1...|2017-05-22 19:50:18|  99.0|        30.53|                 1| credit_card|                   1|       259.06|15898b543726a832d...|           1|                NULL|  Aguardando retorn...| 2017-05-30 00:00:00|    2017-05-30 23:13:47|   ferramentas_jardim|               36.0|                     450.0|               1.0|          9000.0|             42.0|             12.0|            39.0|f2a85dec752b8517b...|                   20780|      rio de janeiro|            RJ|                 29156|           cariacica|          ES|\n",
      "|e6ce16cb79ec1d90b...|494dded5b201313c6...|   delivered|     2017-05-16 19:41:10|2017-05-16 19:50:18|         2017-05-18 11:40:40|          2017-05-29 11:18:31|          2017-06-07 00:00:00|          2.0|08574b074924071f4...|001cca7ae9ae17fb1...|2017-05-22 19:50:18|  99.0|        30.53|                 1| credit_card|                   1|       259.06|15898b543726a832d...|           1|                NULL|  Aguardando retorn...| 2017-05-30 00:00:00|    2017-05-30 23:13:47|   ferramentas_jardim|               36.0|                     450.0|               1.0|          9000.0|             42.0|             12.0|            39.0|f2a85dec752b8517b...|                   20780|      rio de janeiro|            RJ|                 29156|           cariacica|          ES|\n",
      "|34513ce0c4fab462a...|7711cf624183d843a...|   delivered|     2017-07-13 19:58:11|2017-07-13 20:10:08|         2017-07-14 18:43:29|          2017-07-19 14:04:48|          2017-08-08 00:00:00|          1.0|f7e0fa615b386bc9a...|87142160b41353c4e...|2017-07-19 20:10:08|  98.0|        16.13|                 1| credit_card|                   1|       114.13|a932e1fddc0c17fc2...|           4|                NULL|                  NULL| 2017-07-20 00:00:00|    2017-07-22 20:11:54| informatica_acess...|               59.0|                    2574.0|               1.0|           325.0|             21.0|             21.0|            21.0|782987b81c92239d9...|                    4278|           sao paulo|            SP|                 90230|        porto alegre|          RS|\n",
      "|82566a660a982b15f...|d3e3b74c766bc6214...|   delivered|     2018-06-07 10:06:19|2018-06-09 03:13:12|         2018-06-11 13:29:00|          2018-06-19 12:05:52|          2018-07-18 00:00:00|          1.0|72a97c271b2e42997...|094ced053e257ae8c...|2018-06-18 03:13:12|  31.9|        18.23|                 1|      boleto|                   1|        50.13|ed220e853e96b6291...|           5|                NULL|                  NULL| 2018-06-20 00:00:00|    2018-06-20 15:31:29|           perfumaria|               59.0|                     685.0|               1.0|           450.0|             16.0|             17.0|            16.0|e97109680b052ee85...|                   35400|          ouro preto|            MG|                 14095|      ribeirao preto|          SP|\n",
      "|5ff96c15d0b717ac6...|19402a48fe860416a...|   delivered|     2018-07-25 17:44:10|2018-07-25 17:55:14|         2018-07-26 13:16:00|          2018-07-30 15:52:25|          2018-08-08 00:00:00|          1.0|10adb53d8faa890ca...|1900267e848ceeba8...|2018-07-27 17:55:14|  19.9|         12.8|                 1| credit_card|                   3|         32.7|346e42116863ea64d...|           5|                NULL|                  NULL| 2018-07-31 00:00:00|    2018-08-02 21:15:12|      cama_mesa_banho|               52.0|                     155.0|               1.0|           200.0|             16.0|             10.0|            16.0|e2dfa3127fedbbca9...|                    4812|           sao paulo|            SP|                 14940|            ibitinga|          SP|\n",
      "|432aaf21d85167c2c...|3df704f53d3f1d481...|   delivered|     2018-03-01 14:14:28|2018-03-01 15:10:47|         2018-03-02 21:09:20|          2018-03-12 23:36:26|          2018-03-21 00:00:00|          1.0|72d3bf1d3a790f887...|0bae85eb84b9fb3bd...|2018-03-07 15:10:47| 38.25|        16.11|                 1| credit_card|                   1|        54.36|8f39f09c22b1ceb6e...|           4|                NULL|     Gostei do produto| 2018-03-13 00:00:00|    2018-03-14 10:36:16|           brinquedos|               57.0|                     341.0|               2.0|           583.0|             20.0|             21.0|            20.0|04cf8185c71090d28...|                    5271|           sao paulo|            SP|                 88301|              itajai|          SP|\n",
      "|dcb36b511fcac050b...|3b6828a50ffe54694...|   delivered|     2018-06-07 19:03:12|2018-06-12 23:31:02|         2018-06-11 14:54:00|          2018-06-21 15:34:32|          2018-07-04 00:00:00|          1.0|009c09f439988bc06...|89a51f50b8095ea78...|2018-06-18 18:59:02| 132.4|        14.05|                 1| credit_card|                  10|       146.45|5a8608437f4b52bec...|           5|            Nota dez|  Obrigado pela ate...| 2018-07-03 00:00:00|    2018-07-03 15:10:07|           perfumaria|               39.0|                     991.0|               3.0|           150.0|             20.0|             20.0|            20.0|ccafc1c3f27041052...|                   74820|             goiania|            GO|                 71931|            brasilia|          DF|\n",
      "+--------------------+--------------------+------------+------------------------+-------------------+----------------------------+-----------------------------+-----------------------------+-------------+--------------------+--------------------+-------------------+------+-------------+------------------+------------+--------------------+-------------+--------------------+------------+--------------------+----------------------+--------------------+-----------------------+---------------------+-------------------+--------------------------+------------------+----------------+-----------------+-----------------+----------------+--------------------+------------------------+--------------------+--------------+----------------------+--------------------+------------+\n",
      "only showing top 20 rows\n",
      "\n"
     ]
    }
   ],
   "source": [
    "# Show first few records\n",
    "df.show()"
   ]
  },
  {
   "cell_type": "markdown",
   "metadata": {
    "id": "nVkHhBFK_DSS"
   },
   "source": [
    "# Handling Missing Values"
   ]
  },
  {
   "cell_type": "code",
   "execution_count": 9,
   "metadata": {
    "colab": {
     "base_uri": "https://localhost:8080/"
    },
    "id": "B5S-tvSh-ew9",
    "outputId": "ba0d6a41-b04a-401e-9478-61e268834399"
   },
   "outputs": [
    {
     "name": "stdout",
     "output_type": "stream",
     "text": [
      "+--------+-----------+------------+------------------------+-----------------+----------------------------+-----------------------------+-----------------------------+-------------+----------+---------+-------------------+-----+-------------+------------------+------------+--------------------+-------------+---------+------------+--------------------+----------------------+--------------------+-----------------------+---------------------+-------------------+--------------------------+------------------+----------------+-----------------+-----------------+----------------+------------------+------------------------+-------------+--------------+----------------------+-----------+------------+\n",
      "|order_id|customer_id|order_status|order_purchase_timestamp|order_approved_at|order_delivered_carrier_date|order_delivered_customer_date|order_estimated_delivery_date|order_item_id|product_id|seller_id|shipping_limit_date|price|freight_value|payment_sequential|payment_type|payment_installments|payment_value|review_id|review_score|review_comment_title|review_comment_message|review_creation_date|review_answer_timestamp|product_category_name|product_name_lenght|product_description_lenght|product_photos_qty|product_weight_g|product_length_cm|product_height_cm|product_width_cm|customer_unique_id|customer_zip_code_prefix|customer_city|customer_state|seller_zip_code_prefix|seller_city|seller_state|\n",
      "+--------+-----------+------------+------------------------+-----------------+----------------------------+-----------------------------+-----------------------------+-------------+----------+---------+-------------------+-----+-------------+------------------+------------+--------------------+-------------+---------+------------+--------------------+----------------------+--------------------+-----------------------+---------------------+-------------------+--------------------------+------------------+----------------+-----------------+-----------------+----------------+------------------+------------------------+-------------+--------------+----------------------+-----------+------------+\n",
      "|       1|       2780|        2965|                    3035|             3069|                        4295|                         5532|                         3018|         3008|      3005|     3005|               3003| 3003|         3003|              3003|        3003|                3003|         3003|     5638|        6087|              109634|                 73867|               11034|                  11036|                12639|              12641|                     12641|             12641|           11056|            11054|            11054|           11054|             11037|                   11037|        11037|         11037|                 11037|      11037|       11037|\n",
      "+--------+-----------+------------+------------------------+-----------------+----------------------------+-----------------------------+-----------------------------+-------------+----------+---------+-------------------+-----+-------------+------------------+------------+--------------------+-------------+---------+------------+--------------------+----------------------+--------------------+-----------------------+---------------------+-------------------+--------------------------+------------------+----------------+-----------------+-----------------+----------------+------------------+------------------------+-------------+--------------+----------------------+-----------+------------+\n",
      "\n"
     ]
    }
   ],
   "source": [
    "from pyspark.sql.functions import col, sum\n",
    "\n",
    "# Count missing/null values in each column\n",
    "missing_counts = df.select([sum(col(c).isNull().cast(\"int\")).alias(c) for c in df.columns])\n",
    "missing_counts.show()"
   ]
  },
  {
   "cell_type": "markdown",
   "metadata": {
    "id": "71A3K773_aWM"
   },
   "source": [
    "### Step 1: Drop Columns with Excessive Missing Values\n",
    "If certain columns have a very high percentage of missing values (e.g., review_comment_title, review_comment_message), it's better to drop them."
   ]
  },
  {
   "cell_type": "code",
   "execution_count": 11,
   "metadata": {
    "id": "_99ZTb0C_F5I"
   },
   "outputs": [],
   "source": [
    "df = df.drop(\"review_comment_title\", \"review_comment_message\", \"product_name_lenght\", \"product_description_lenght\",\"product_photos_qty\", \"product_weight_g\",\"product_height_cm\", \"product_width_cm\",\"product_length_cm\", \"customer_unique_id\", \"customer_zip_code_prefix\", \"seller_zip_code_prefix\")"
   ]
  },
  {
   "cell_type": "markdown",
   "metadata": {
    "id": "qbNKiToP_5OI"
   },
   "source": [
    "### Step 2: Fill Missing Values for Important Columns"
   ]
  },
  {
   "cell_type": "code",
   "execution_count": 13,
   "metadata": {
    "id": "PGckwxQU_r-7"
   },
   "outputs": [],
   "source": [
    "from pyspark.sql.functions import mean\n",
    "\n",
    "num_cols = [\"price\", \"freight_value\"]\n",
    "\n",
    "for col_name in num_cols:\n",
    "    mean_value = df.select(mean(col(col_name))).collect()[0][0]\n",
    "    df = df.fillna({col_name: mean_value})"
   ]
  },
  {
   "cell_type": "code",
   "execution_count": 14,
   "metadata": {
    "id": "P8CvJwVAAMEP"
   },
   "outputs": [],
   "source": [
    "cat_cols = [\"product_category_name\", \"customer_city\", \"customer_state\", \"seller_city\", \"seller_state\"]\n",
    "\n",
    "for col_name in cat_cols:\n",
    "    df = df.fillna({col_name: \"Unknown\"})"
   ]
  },
  {
   "cell_type": "code",
   "execution_count": 15,
   "metadata": {
    "id": "zu4oZlW-AXUZ"
   },
   "outputs": [],
   "source": [
    "from pyspark.sql.functions import to_date, lit\n",
    "\n",
    "date_cols = [\"order_purchase_timestamp\", \"order_approved_at\", \"order_delivered_carrier_date\",\n",
    "             \"order_delivered_customer_date\", \"order_estimated_delivery_date\",\n",
    "             \"shipping_limit_date\", \"review_creation_date\", \"review_answer_timestamp\"]\n",
    "\n",
    "for col_name in date_cols:\n",
    "    df = df.fillna({col_name: \"1970-01-01\"})\n",
    "    df = df.withColumn(col_name, to_date(col(col_name)))"
   ]
  },
  {
   "cell_type": "code",
   "execution_count": 16,
   "metadata": {
    "id": "vyJjnNGVBGtT"
   },
   "outputs": [],
   "source": [
    "df = df.dropna(subset=[\"order_delivered_customer_date\", \"review_score\", \"order_item_id\",\"review_creation_date\",\"review_answer_timestamp\",\"order_purchase_timestamp\"])"
   ]
  },
  {
   "cell_type": "code",
   "execution_count": 17,
   "metadata": {
    "colab": {
     "base_uri": "https://localhost:8080/"
    },
    "id": "uHUAF_STE1LC",
    "outputId": "8222efe5-6099-4094-ee36-e6057adec6ed"
   },
   "outputs": [
    {
     "name": "stdout",
     "output_type": "stream",
     "text": [
      "+--------+-----------+------------+------------------------+-----------------+----------------------------+-----------------------------+-----------------------------+-------------+----------+---------+-------------------+-----+-------------+------------------+------------+--------------------+-------------+---------+------------+--------------------+-----------------------+---------------------+-------------+--------------+-----------+------------+\n",
      "|order_id|customer_id|order_status|order_purchase_timestamp|order_approved_at|order_delivered_carrier_date|order_delivered_customer_date|order_estimated_delivery_date|order_item_id|product_id|seller_id|shipping_limit_date|price|freight_value|payment_sequential|payment_type|payment_installments|payment_value|review_id|review_score|review_creation_date|review_answer_timestamp|product_category_name|customer_city|customer_state|seller_city|seller_state|\n",
      "+--------+-----------+------------+------------------------+-----------------+----------------------------+-----------------------------+-----------------------------+-------------+----------+---------+-------------------+-----+-------------+------------------+------------+--------------------+-------------+---------+------------+--------------------+-----------------------+---------------------+-------------+--------------+-----------+------------+\n",
      "|       0|          0|           0|                       0|                0|                           0|                            0|                            0|            0|         0|        0|                  0|    0|            0|                 0|           0|                   0|            0|        0|           0|                   0|                      0|                    0|            0|             0|          0|           0|\n",
      "+--------+-----------+------------+------------------------+-----------------+----------------------------+-----------------------------+-----------------------------+-------------+----------+---------+-------------------+-----+-------------+------------------+------------+--------------------+-------------+---------+------------+--------------------+-----------------------+---------------------+-------------+--------------+-----------+------------+\n",
      "\n"
     ]
    }
   ],
   "source": [
    "missing_counts = df.select([sum(col(c).isNull().cast(\"int\")).alias(c) for c in df.columns])\n",
    "missing_counts.show()"
   ]
  },
  {
   "cell_type": "code",
   "execution_count": 18,
   "metadata": {
    "colab": {
     "base_uri": "https://localhost:8080/"
    },
    "id": "D60sLe_NE3BN",
    "outputId": "3a5b1d4a-99e3-4a1a-bb7f-d34d147eb267"
   },
   "outputs": [
    {
     "data": {
      "text/plain": [
       "117249"
      ]
     },
     "execution_count": 18,
     "metadata": {},
     "output_type": "execute_result"
    }
   ],
   "source": [
    "df.count()"
   ]
  },
  {
   "cell_type": "code",
   "execution_count": 19,
   "metadata": {
    "id": "HRHXY6SOIP4a"
   },
   "outputs": [],
   "source": [
    "df = df.toPandas()"
   ]
  },
  {
   "cell_type": "code",
   "execution_count": 20,
   "metadata": {},
   "outputs": [],
   "source": [
    "unique_id = df['customer_id'].unique()\n",
    "id_mapping = {old_id : new_id for new_id, old_id in enumerate(unique_id, start= 1)}\n",
    "df['customer_id'] = df['customer_id'].map(id_mapping)"
   ]
  },
  {
   "cell_type": "code",
   "execution_count": 21,
   "metadata": {},
   "outputs": [],
   "source": [
    "unique_id = df['product_id'].unique()\n",
    "id_mapping = {old_id : new_id for new_id, old_id in enumerate(unique_id, start= 1)}\n",
    "df['product_id'] = df['product_id'].map(id_mapping)"
   ]
  },
  {
   "cell_type": "code",
   "execution_count": 22,
   "metadata": {
    "id": "4gED_eyVHiCp"
   },
   "outputs": [],
   "source": [
    "# Ensure timestamps are in datetime format\n",
    "df['order_purchase_timestamp'] = pd.to_datetime(df['order_purchase_timestamp'])\n",
    "df['order_delivered_customer_date'] = pd.to_datetime(df['order_delivered_customer_date'])\n",
    "\n",
    "# Create useful features from order_purchase_timestamp\n",
    "df['day_of_week_int'] = df['order_purchase_timestamp'].dt.weekday + 1  # Day of week as integer (1 = Monday, etc.)\n",
    "df['hour'] = df['order_purchase_timestamp'].dt.hour                    # Hour of day\n",
    "df['month'] = df['order_purchase_timestamp'].dt.month                  # Month as integer\n",
    "df['year'] = df['order_purchase_timestamp'].dt.year                    # Year as integer\n",
    "df['date'] = df['order_purchase_timestamp'].dt.to_period('M')          # Monthly period for time series analysis\n",
    "\n",
    "# Calculate delivery time in days\n",
    "df['delivery_time'] = (df['order_delivered_customer_date'] - df['order_purchase_timestamp']).dt.days"
   ]
  },
  {
   "cell_type": "code",
   "execution_count": 23,
   "metadata": {
    "id": "picg1sYoinHt"
   },
   "outputs": [],
   "source": [
    "df['price'] = pd.to_numeric(df['price'], errors='coerce')"
   ]
  },
  {
   "cell_type": "code",
   "execution_count": 24,
   "metadata": {
    "colab": {
     "base_uri": "https://localhost:8080/",
     "height": 342
    },
    "id": "Mx3HOUtoIG9C",
    "outputId": "edfba90f-1a51-410c-89e7-f7a259b2b650"
   },
   "outputs": [
    {
     "data": {
      "text/html": [
       "<div>\n",
       "<style scoped>\n",
       "    .dataframe tbody tr th:only-of-type {\n",
       "        vertical-align: middle;\n",
       "    }\n",
       "\n",
       "    .dataframe tbody tr th {\n",
       "        vertical-align: top;\n",
       "    }\n",
       "\n",
       "    .dataframe thead th {\n",
       "        text-align: right;\n",
       "    }\n",
       "</style>\n",
       "<table border=\"1\" class=\"dataframe\">\n",
       "  <thead>\n",
       "    <tr style=\"text-align: right;\">\n",
       "      <th></th>\n",
       "      <th>order_id</th>\n",
       "      <th>customer_id</th>\n",
       "      <th>order_status</th>\n",
       "      <th>order_purchase_timestamp</th>\n",
       "      <th>order_approved_at</th>\n",
       "      <th>order_delivered_carrier_date</th>\n",
       "      <th>order_delivered_customer_date</th>\n",
       "      <th>order_estimated_delivery_date</th>\n",
       "      <th>order_item_id</th>\n",
       "      <th>product_id</th>\n",
       "      <th>...</th>\n",
       "      <th>customer_city</th>\n",
       "      <th>customer_state</th>\n",
       "      <th>seller_city</th>\n",
       "      <th>seller_state</th>\n",
       "      <th>day_of_week_int</th>\n",
       "      <th>hour</th>\n",
       "      <th>month</th>\n",
       "      <th>year</th>\n",
       "      <th>date</th>\n",
       "      <th>delivery_time</th>\n",
       "    </tr>\n",
       "  </thead>\n",
       "  <tbody>\n",
       "    <tr>\n",
       "      <th>0</th>\n",
       "      <td>e481f51cbdc54678b7cc49136f2d6af7</td>\n",
       "      <td>1</td>\n",
       "      <td>delivered</td>\n",
       "      <td>2017-10-02</td>\n",
       "      <td>2017-10-02</td>\n",
       "      <td>2017-10-04</td>\n",
       "      <td>2017-10-10</td>\n",
       "      <td>2017-10-18</td>\n",
       "      <td>1.0</td>\n",
       "      <td>1</td>\n",
       "      <td>...</td>\n",
       "      <td>sao paulo</td>\n",
       "      <td>SP</td>\n",
       "      <td>maua</td>\n",
       "      <td>SP</td>\n",
       "      <td>1</td>\n",
       "      <td>0</td>\n",
       "      <td>10</td>\n",
       "      <td>2017</td>\n",
       "      <td>2017-10</td>\n",
       "      <td>8</td>\n",
       "    </tr>\n",
       "    <tr>\n",
       "      <th>1</th>\n",
       "      <td>e481f51cbdc54678b7cc49136f2d6af7</td>\n",
       "      <td>1</td>\n",
       "      <td>delivered</td>\n",
       "      <td>2017-10-02</td>\n",
       "      <td>2017-10-02</td>\n",
       "      <td>2017-10-04</td>\n",
       "      <td>2017-10-10</td>\n",
       "      <td>2017-10-18</td>\n",
       "      <td>1.0</td>\n",
       "      <td>1</td>\n",
       "      <td>...</td>\n",
       "      <td>sao paulo</td>\n",
       "      <td>SP</td>\n",
       "      <td>maua</td>\n",
       "      <td>SP</td>\n",
       "      <td>1</td>\n",
       "      <td>0</td>\n",
       "      <td>10</td>\n",
       "      <td>2017</td>\n",
       "      <td>2017-10</td>\n",
       "      <td>8</td>\n",
       "    </tr>\n",
       "    <tr>\n",
       "      <th>2</th>\n",
       "      <td>e481f51cbdc54678b7cc49136f2d6af7</td>\n",
       "      <td>1</td>\n",
       "      <td>delivered</td>\n",
       "      <td>2017-10-02</td>\n",
       "      <td>2017-10-02</td>\n",
       "      <td>2017-10-04</td>\n",
       "      <td>2017-10-10</td>\n",
       "      <td>2017-10-18</td>\n",
       "      <td>1.0</td>\n",
       "      <td>1</td>\n",
       "      <td>...</td>\n",
       "      <td>sao paulo</td>\n",
       "      <td>SP</td>\n",
       "      <td>maua</td>\n",
       "      <td>SP</td>\n",
       "      <td>1</td>\n",
       "      <td>0</td>\n",
       "      <td>10</td>\n",
       "      <td>2017</td>\n",
       "      <td>2017-10</td>\n",
       "      <td>8</td>\n",
       "    </tr>\n",
       "    <tr>\n",
       "      <th>3</th>\n",
       "      <td>53cdb2fc8bc7dce0b6741e2150273451</td>\n",
       "      <td>2</td>\n",
       "      <td>delivered</td>\n",
       "      <td>2018-07-24</td>\n",
       "      <td>2018-07-26</td>\n",
       "      <td>2018-07-26</td>\n",
       "      <td>2018-08-07</td>\n",
       "      <td>2018-08-13</td>\n",
       "      <td>1.0</td>\n",
       "      <td>2</td>\n",
       "      <td>...</td>\n",
       "      <td>barreiras</td>\n",
       "      <td>BA</td>\n",
       "      <td>belo horizonte</td>\n",
       "      <td>SP</td>\n",
       "      <td>2</td>\n",
       "      <td>0</td>\n",
       "      <td>7</td>\n",
       "      <td>2018</td>\n",
       "      <td>2018-07</td>\n",
       "      <td>14</td>\n",
       "    </tr>\n",
       "    <tr>\n",
       "      <th>4</th>\n",
       "      <td>47770eb9100c2d0c44946d9cf07ec65d</td>\n",
       "      <td>3</td>\n",
       "      <td>delivered</td>\n",
       "      <td>2018-08-08</td>\n",
       "      <td>2018-08-08</td>\n",
       "      <td>2018-08-08</td>\n",
       "      <td>2018-08-17</td>\n",
       "      <td>2018-09-04</td>\n",
       "      <td>1.0</td>\n",
       "      <td>3</td>\n",
       "      <td>...</td>\n",
       "      <td>vianopolis</td>\n",
       "      <td>GO</td>\n",
       "      <td>guariba</td>\n",
       "      <td>SP</td>\n",
       "      <td>3</td>\n",
       "      <td>0</td>\n",
       "      <td>8</td>\n",
       "      <td>2018</td>\n",
       "      <td>2018-08</td>\n",
       "      <td>9</td>\n",
       "    </tr>\n",
       "  </tbody>\n",
       "</table>\n",
       "<p>5 rows × 33 columns</p>\n",
       "</div>"
      ],
      "text/plain": [
       "                           order_id  customer_id order_status  \\\n",
       "0  e481f51cbdc54678b7cc49136f2d6af7            1    delivered   \n",
       "1  e481f51cbdc54678b7cc49136f2d6af7            1    delivered   \n",
       "2  e481f51cbdc54678b7cc49136f2d6af7            1    delivered   \n",
       "3  53cdb2fc8bc7dce0b6741e2150273451            2    delivered   \n",
       "4  47770eb9100c2d0c44946d9cf07ec65d            3    delivered   \n",
       "\n",
       "  order_purchase_timestamp order_approved_at order_delivered_carrier_date  \\\n",
       "0               2017-10-02        2017-10-02                   2017-10-04   \n",
       "1               2017-10-02        2017-10-02                   2017-10-04   \n",
       "2               2017-10-02        2017-10-02                   2017-10-04   \n",
       "3               2018-07-24        2018-07-26                   2018-07-26   \n",
       "4               2018-08-08        2018-08-08                   2018-08-08   \n",
       "\n",
       "  order_delivered_customer_date order_estimated_delivery_date  order_item_id  \\\n",
       "0                    2017-10-10                    2017-10-18            1.0   \n",
       "1                    2017-10-10                    2017-10-18            1.0   \n",
       "2                    2017-10-10                    2017-10-18            1.0   \n",
       "3                    2018-08-07                    2018-08-13            1.0   \n",
       "4                    2018-08-17                    2018-09-04            1.0   \n",
       "\n",
       "   product_id  ... customer_city customer_state     seller_city seller_state  \\\n",
       "0           1  ...     sao paulo             SP            maua           SP   \n",
       "1           1  ...     sao paulo             SP            maua           SP   \n",
       "2           1  ...     sao paulo             SP            maua           SP   \n",
       "3           2  ...     barreiras             BA  belo horizonte           SP   \n",
       "4           3  ...    vianopolis             GO         guariba           SP   \n",
       "\n",
       "  day_of_week_int hour month  year     date delivery_time  \n",
       "0               1    0    10  2017  2017-10             8  \n",
       "1               1    0    10  2017  2017-10             8  \n",
       "2               1    0    10  2017  2017-10             8  \n",
       "3               2    0     7  2018  2018-07            14  \n",
       "4               3    0     8  2018  2018-08             9  \n",
       "\n",
       "[5 rows x 33 columns]"
      ]
     },
     "execution_count": 24,
     "metadata": {},
     "output_type": "execute_result"
    }
   ],
   "source": [
    "df.head()"
   ]
  },
  {
   "cell_type": "markdown",
   "metadata": {
    "id": "RztAfB6jd07v"
   },
   "source": [
    "# EDA"
   ]
  },
  {
   "cell_type": "markdown",
   "metadata": {
    "id": "DEk0kYjtnIDi"
   },
   "source": [
    "### Monthly Sales Trend (Line Plot)"
   ]
  },
  {
   "cell_type": "code",
   "execution_count": 27,
   "metadata": {},
   "outputs": [],
   "source": [
    "df.to_csv('ecommerce_cleaned.csv')"
   ]
  },
  {
   "cell_type": "code",
   "execution_count": 28,
   "metadata": {
    "colab": {
     "base_uri": "https://localhost:8080/",
     "height": 525
    },
    "id": "FOEL4cUtc0nm",
    "outputId": "d8c3521f-5c26-4157-cec3-5d66d2ad421f"
   },
   "outputs": [
    {
     "data": {
      "image/png": "[encoded data removed]",
      "text/plain": [
       "<Figure size 1000x500 with 1 Axes>"
      ]
     },
     "metadata": {},
     "output_type": "display_data"
    }
   ],
   "source": [
    "# Aggregate monthly sales\n",
    "monthly_sales = df.groupby(df['order_purchase_timestamp'].dt.to_period('M'))['price'].sum()\n",
    "\n",
    "# Plot\n",
    "plt.figure(figsize=(10, 5))\n",
    "plt.plot(monthly_sales.index.astype(str), monthly_sales, marker='o', linestyle='-', color='b', linewidth=2)\n",
    "\n",
    "# Labels and formatting\n",
    "plt.title('Monthly Sales Trend', fontsize=14, fontweight='bold')\n",
    "plt.xlabel('Month')\n",
    "plt.ylabel('Total Sales')\n",
    "plt.xticks(rotation=45)\n",
    "plt.grid(True, linestyle='--', alpha=0.7)\n",
    "\n",
    "plt.show()"
   ]
  },
  {
   "cell_type": "markdown",
   "metadata": {
    "id": "9-BRRblMnMQV"
   },
   "source": [
    "### Total Sales by Product Category (Bar Plot)"
   ]
  },
  {
   "cell_type": "code",
   "execution_count": 30,
   "metadata": {
    "colab": {
     "base_uri": "https://localhost:8080/",
     "height": 601
    },
    "id": "sJzF_POVd3nZ",
    "outputId": "796209ba-fb8e-4438-bfe2-335008fb850c"
   },
   "outputs": [
    {
     "data": {
      "image/png": "[encoded data removed]",
      "text/plain": [
       "<Figure size 1000x500 with 1 Axes>"
      ]
     },
     "metadata": {},
     "output_type": "display_data"
    }
   ],
   "source": [
    "# Plot top 10 product categories\n",
    "df['product_category_name'].value_counts().head(10).plot(\n",
    "    kind='bar', figsize=(10, 5), color=colors[1], edgecolor='black'\n",
    ")\n",
    "\n",
    "# Add titles and labels\n",
    "plt.title('Top 10 Product Categories', fontsize=14, fontweight='bold')\n",
    "plt.xlabel('Product Category', fontsize=12)\n",
    "plt.ylabel('Number of Orders', fontsize=12)\n",
    "\n",
    "# Customize ticks and gridlines\n",
    "plt.xticks(rotation=45, fontsize=10)\n",
    "plt.yticks(fontsize=10)\n",
    "plt.grid(axis='y', linestyle='--', alpha=0.7)\n",
    "\n",
    "plt.show()"
   ]
  },
  {
   "cell_type": "markdown",
   "metadata": {
    "id": "7c7HfHfqnZ-Z"
   },
   "source": [
    "### Proportion of Total Sales by Payment Type (Pie Chart)"
   ]
  },
  {
   "cell_type": "code",
   "execution_count": 32,
   "metadata": {
    "colab": {
     "base_uri": "https://localhost:8080/",
     "height": 445
    },
    "id": "Ha8G7OQkmHyD",
    "outputId": "b71cf2e8-a40e-4826-f72e-c78929756f15"
   },
   "outputs": [
    {
     "data": {
      "image/png": "[encoded data removed]",
      "text/plain": [
       "<Figure size 500x500 with 1 Axes>"
      ]
     },
     "metadata": {},
     "output_type": "display_data"
    }
   ],
   "source": [
    "# Plot sales distribution by payment type\n",
    "df.groupby('payment_type')['price'].sum().plot(\n",
    "    kind='pie', autopct='%1.1f%%', colors=colors, figsize=(5,5), ylabel='')\n",
    "\n",
    "# Add title\n",
    "plt.title('Sales Distribution by Payment Type', fontsize=14, fontweight='bold')\n",
    "\n",
    "plt.show()"
   ]
  },
  {
   "cell_type": "markdown",
   "metadata": {
    "id": "vy9-Akznn6wA"
   },
   "source": [
    "### Distribution of Review Scores (Histogram)"
   ]
  },
  {
   "cell_type": "code",
   "execution_count": 34,
   "metadata": {
    "colab": {
     "base_uri": "https://localhost:8080/",
     "height": 507
    },
    "id": "j8uH8r_So17P",
    "outputId": "1fc80cb5-cc04-45dd-a540-15b6747f40be"
   },
   "outputs": [
    {
     "data": {
      "image/png": "[encoded data removed]",
      "text/plain": [
       "<Figure size 700x500 with 1 Axes>"
      ]
     },
     "metadata": {},
     "output_type": "display_data"
    }
   ],
   "source": [
    "# Plot distribution of review scores\n",
    "df['review_score'].hist(bins=5, color=colors[1], edgecolor='black', figsize=(7, 5), grid=True)\n",
    "\n",
    "# Add title and labels\n",
    "plt.title('Distribution of Review Scores', fontsize=14, fontweight='bold')\n",
    "plt.xlabel('Review Score', fontsize=12)\n",
    "plt.ylabel('Frequency', fontsize=12)\n",
    "\n",
    "plt.tight_layout()\n",
    "plt.show()\n"
   ]
  },
  {
   "cell_type": "markdown",
   "metadata": {
    "id": "mWbRHAgBwFzf"
   },
   "source": [
    "### Correlation Heatmap"
   ]
  },
  {
   "cell_type": "code",
   "execution_count": 36,
   "metadata": {
    "colab": {
     "base_uri": "https://localhost:8080/",
     "height": 609
    },
    "id": "FTXmPTGfusXf",
    "outputId": "bb9d56e3-ab5a-4f10-f63e-895a96cdbff9"
   },
   "outputs": [
    {
     "data": {
      "image/png": "[encoded data removed]",
      "text/plain": [
       "<Figure size 700x500 with 2 Axes>"
      ]
     },
     "metadata": {},
     "output_type": "display_data"
    }
   ],
   "source": [
    "# Select relevant features and compute correlation matrix\n",
    "correlation = df[['price', 'review_score', 'delivery_time',\n",
    "                  'payment_value', 'freight_value', 'payment_installments',\n",
    "                  'order_item_id', 'hour', 'month']].corr()\n",
    "\n",
    "# Define custom colormap\n",
    "custom_cmap = LinearSegmentedColormap.from_list(\"custom_cmap\", ['#3B96B7', '#E9E5DC', '#C78A4D'])\n",
    "\n",
    "# Plot heatmap\n",
    "plt.figure(figsize=(7,5))\n",
    "sns.heatmap(correlation, annot=True, cmap=custom_cmap, vmin=-1, vmax=1, fmt=\".2f\", linewidths=0.5)\n",
    "\n",
    "plt.title('Correlation Heatmap', fontsize=14, fontweight='bold')\n",
    "plt.show()"
   ]
  },
  {
   "cell_type": "code",
   "execution_count": 37,
   "metadata": {
    "colab": {
     "base_uri": "https://localhost:8080/"
    },
    "id": "2segvs9l6xUE",
    "outputId": "9c8ca46d-fe8d-4094-e04e-a272f96131b4"
   },
   "outputs": [
    {
     "name": "stdout",
     "output_type": "stream",
     "text": [
      "<class 'pandas.core.frame.DataFrame'>\n",
      "RangeIndex: 117249 entries, 0 to 117248\n",
      "Data columns (total 33 columns):\n",
      " #   Column                         Non-Null Count   Dtype         \n",
      "---  ------                         --------------   -----         \n",
      " 0   order_id                       117249 non-null  object        \n",
      " 1   customer_id                    117249 non-null  int64         \n",
      " 2   order_status                   117249 non-null  object        \n",
      " 3   order_purchase_timestamp       117249 non-null  datetime64[ns]\n",
      " 4   order_approved_at              117249 non-null  object        \n",
      " 5   order_delivered_carrier_date   117249 non-null  object        \n",
      " 6   order_delivered_customer_date  117249 non-null  datetime64[ns]\n",
      " 7   order_estimated_delivery_date  117249 non-null  object        \n",
      " 8   order_item_id                  117249 non-null  float64       \n",
      " 9   product_id                     117249 non-null  int64         \n",
      " 10  seller_id                      117249 non-null  object        \n",
      " 11  shipping_limit_date            117249 non-null  object        \n",
      " 12  price                          117249 non-null  float64       \n",
      " 13  freight_value                  117249 non-null  object        \n",
      " 14  payment_sequential             117249 non-null  object        \n",
      " 15  payment_type                   117249 non-null  object        \n",
      " 16  payment_installments           117249 non-null  object        \n",
      " 17  payment_value                  117249 non-null  object        \n",
      " 18  review_id                      117249 non-null  object        \n",
      " 19  review_score                   117249 non-null  object        \n",
      " 20  review_creation_date           117249 non-null  object        \n",
      " 21  review_answer_timestamp        117249 non-null  object        \n",
      " 22  product_category_name          117249 non-null  object        \n",
      " 23  customer_city                  117249 non-null  object        \n",
      " 24  customer_state                 117249 non-null  object        \n",
      " 25  seller_city                    117249 non-null  object        \n",
      " 26  seller_state                   117249 non-null  object        \n",
      " 27  day_of_week_int                117249 non-null  int32         \n",
      " 28  hour                           117249 non-null  int32         \n",
      " 29  month                          117249 non-null  int32         \n",
      " 30  year                           117249 non-null  int32         \n",
      " 31  date                           117249 non-null  period[M]     \n",
      " 32  delivery_time                  117249 non-null  int64         \n",
      "dtypes: datetime64[ns](2), float64(2), int32(4), int64(3), object(21), period[M](1)\n",
      "memory usage: 27.7+ MB\n"
     ]
    }
   ],
   "source": [
    "df.info()"
   ]
  },
  {
   "cell_type": "code",
   "execution_count": 38,
   "metadata": {
    "colab": {
     "base_uri": "https://localhost:8080/"
    },
    "id": "HSaRDsHk64wi",
    "outputId": "8a348c15-9397-4fcf-a50d-f3ec33cb64bb"
   },
   "outputs": [
    {
     "data": {
      "text/plain": [
       "(117249, 33)"
      ]
     },
     "execution_count": 38,
     "metadata": {},
     "output_type": "execute_result"
    }
   ],
   "source": [
    "df.shape"
   ]
  },
  {
   "cell_type": "markdown",
   "metadata": {
    "id": "Tlesh2v76lXf"
   },
   "source": [
    "# FEATURE ENGINEERING"
   ]
  },
  {
   "cell_type": "code",
   "execution_count": 40,
   "metadata": {
    "id": "6W9_Kr7B-S55"
   },
   "outputs": [],
   "source": [
    "df_sentiment = df.copy()\n",
    "df_recommendation = df[['customer_id', 'product_id', 'review_score', 'product_category_name', 'price', 'freight_value']].copy()"
   ]
  },
  {
   "cell_type": "code",
   "execution_count": 41,
   "metadata": {
    "colab": {
     "base_uri": "https://localhost:8080/",
     "height": 342
    },
    "id": "utIkmQbg_gwW",
    "outputId": "29f2bb07-120b-499f-c820-308326540b28"
   },
   "outputs": [
    {
     "data": {
      "text/html": [
       "<div>\n",
       "<style scoped>\n",
       "    .dataframe tbody tr th:only-of-type {\n",
       "        vertical-align: middle;\n",
       "    }\n",
       "\n",
       "    .dataframe tbody tr th {\n",
       "        vertical-align: top;\n",
       "    }\n",
       "\n",
       "    .dataframe thead th {\n",
       "        text-align: right;\n",
       "    }\n",
       "</style>\n",
       "<table border=\"1\" class=\"dataframe\">\n",
       "  <thead>\n",
       "    <tr style=\"text-align: right;\">\n",
       "      <th></th>\n",
       "      <th>order_id</th>\n",
       "      <th>customer_id</th>\n",
       "      <th>order_status</th>\n",
       "      <th>order_purchase_timestamp</th>\n",
       "      <th>order_approved_at</th>\n",
       "      <th>order_delivered_carrier_date</th>\n",
       "      <th>order_delivered_customer_date</th>\n",
       "      <th>order_estimated_delivery_date</th>\n",
       "      <th>order_item_id</th>\n",
       "      <th>product_id</th>\n",
       "      <th>...</th>\n",
       "      <th>customer_city</th>\n",
       "      <th>customer_state</th>\n",
       "      <th>seller_city</th>\n",
       "      <th>seller_state</th>\n",
       "      <th>day_of_week_int</th>\n",
       "      <th>hour</th>\n",
       "      <th>month</th>\n",
       "      <th>year</th>\n",
       "      <th>date</th>\n",
       "      <th>delivery_time</th>\n",
       "    </tr>\n",
       "  </thead>\n",
       "  <tbody>\n",
       "    <tr>\n",
       "      <th>0</th>\n",
       "      <td>e481f51cbdc54678b7cc49136f2d6af7</td>\n",
       "      <td>1</td>\n",
       "      <td>delivered</td>\n",
       "      <td>2017-10-02</td>\n",
       "      <td>2017-10-02</td>\n",
       "      <td>2017-10-04</td>\n",
       "      <td>2017-10-10</td>\n",
       "      <td>2017-10-18</td>\n",
       "      <td>1.0</td>\n",
       "      <td>1</td>\n",
       "      <td>...</td>\n",
       "      <td>sao paulo</td>\n",
       "      <td>SP</td>\n",
       "      <td>maua</td>\n",
       "      <td>SP</td>\n",
       "      <td>1</td>\n",
       "      <td>0</td>\n",
       "      <td>10</td>\n",
       "      <td>2017</td>\n",
       "      <td>2017-10</td>\n",
       "      <td>8</td>\n",
       "    </tr>\n",
       "    <tr>\n",
       "      <th>1</th>\n",
       "      <td>e481f51cbdc54678b7cc49136f2d6af7</td>\n",
       "      <td>1</td>\n",
       "      <td>delivered</td>\n",
       "      <td>2017-10-02</td>\n",
       "      <td>2017-10-02</td>\n",
       "      <td>2017-10-04</td>\n",
       "      <td>2017-10-10</td>\n",
       "      <td>2017-10-18</td>\n",
       "      <td>1.0</td>\n",
       "      <td>1</td>\n",
       "      <td>...</td>\n",
       "      <td>sao paulo</td>\n",
       "      <td>SP</td>\n",
       "      <td>maua</td>\n",
       "      <td>SP</td>\n",
       "      <td>1</td>\n",
       "      <td>0</td>\n",
       "      <td>10</td>\n",
       "      <td>2017</td>\n",
       "      <td>2017-10</td>\n",
       "      <td>8</td>\n",
       "    </tr>\n",
       "    <tr>\n",
       "      <th>2</th>\n",
       "      <td>e481f51cbdc54678b7cc49136f2d6af7</td>\n",
       "      <td>1</td>\n",
       "      <td>delivered</td>\n",
       "      <td>2017-10-02</td>\n",
       "      <td>2017-10-02</td>\n",
       "      <td>2017-10-04</td>\n",
       "      <td>2017-10-10</td>\n",
       "      <td>2017-10-18</td>\n",
       "      <td>1.0</td>\n",
       "      <td>1</td>\n",
       "      <td>...</td>\n",
       "      <td>sao paulo</td>\n",
       "      <td>SP</td>\n",
       "      <td>maua</td>\n",
       "      <td>SP</td>\n",
       "      <td>1</td>\n",
       "      <td>0</td>\n",
       "      <td>10</td>\n",
       "      <td>2017</td>\n",
       "      <td>2017-10</td>\n",
       "      <td>8</td>\n",
       "    </tr>\n",
       "    <tr>\n",
       "      <th>3</th>\n",
       "      <td>53cdb2fc8bc7dce0b6741e2150273451</td>\n",
       "      <td>2</td>\n",
       "      <td>delivered</td>\n",
       "      <td>2018-07-24</td>\n",
       "      <td>2018-07-26</td>\n",
       "      <td>2018-07-26</td>\n",
       "      <td>2018-08-07</td>\n",
       "      <td>2018-08-13</td>\n",
       "      <td>1.0</td>\n",
       "      <td>2</td>\n",
       "      <td>...</td>\n",
       "      <td>barreiras</td>\n",
       "      <td>BA</td>\n",
       "      <td>belo horizonte</td>\n",
       "      <td>SP</td>\n",
       "      <td>2</td>\n",
       "      <td>0</td>\n",
       "      <td>7</td>\n",
       "      <td>2018</td>\n",
       "      <td>2018-07</td>\n",
       "      <td>14</td>\n",
       "    </tr>\n",
       "    <tr>\n",
       "      <th>4</th>\n",
       "      <td>47770eb9100c2d0c44946d9cf07ec65d</td>\n",
       "      <td>3</td>\n",
       "      <td>delivered</td>\n",
       "      <td>2018-08-08</td>\n",
       "      <td>2018-08-08</td>\n",
       "      <td>2018-08-08</td>\n",
       "      <td>2018-08-17</td>\n",
       "      <td>2018-09-04</td>\n",
       "      <td>1.0</td>\n",
       "      <td>3</td>\n",
       "      <td>...</td>\n",
       "      <td>vianopolis</td>\n",
       "      <td>GO</td>\n",
       "      <td>guariba</td>\n",
       "      <td>SP</td>\n",
       "      <td>3</td>\n",
       "      <td>0</td>\n",
       "      <td>8</td>\n",
       "      <td>2018</td>\n",
       "      <td>2018-08</td>\n",
       "      <td>9</td>\n",
       "    </tr>\n",
       "  </tbody>\n",
       "</table>\n",
       "<p>5 rows × 33 columns</p>\n",
       "</div>"
      ],
      "text/plain": [
       "                           order_id  customer_id order_status  \\\n",
       "0  e481f51cbdc54678b7cc49136f2d6af7            1    delivered   \n",
       "1  e481f51cbdc54678b7cc49136f2d6af7            1    delivered   \n",
       "2  e481f51cbdc54678b7cc49136f2d6af7            1    delivered   \n",
       "3  53cdb2fc8bc7dce0b6741e2150273451            2    delivered   \n",
       "4  47770eb9100c2d0c44946d9cf07ec65d            3    delivered   \n",
       "\n",
       "  order_purchase_timestamp order_approved_at order_delivered_carrier_date  \\\n",
       "0               2017-10-02        2017-10-02                   2017-10-04   \n",
       "1               2017-10-02        2017-10-02                   2017-10-04   \n",
       "2               2017-10-02        2017-10-02                   2017-10-04   \n",
       "3               2018-07-24        2018-07-26                   2018-07-26   \n",
       "4               2018-08-08        2018-08-08                   2018-08-08   \n",
       "\n",
       "  order_delivered_customer_date order_estimated_delivery_date  order_item_id  \\\n",
       "0                    2017-10-10                    2017-10-18            1.0   \n",
       "1                    2017-10-10                    2017-10-18            1.0   \n",
       "2                    2017-10-10                    2017-10-18            1.0   \n",
       "3                    2018-08-07                    2018-08-13            1.0   \n",
       "4                    2018-08-17                    2018-09-04            1.0   \n",
       "\n",
       "   product_id  ... customer_city customer_state     seller_city seller_state  \\\n",
       "0           1  ...     sao paulo             SP            maua           SP   \n",
       "1           1  ...     sao paulo             SP            maua           SP   \n",
       "2           1  ...     sao paulo             SP            maua           SP   \n",
       "3           2  ...     barreiras             BA  belo horizonte           SP   \n",
       "4           3  ...    vianopolis             GO         guariba           SP   \n",
       "\n",
       "  day_of_week_int hour month  year     date delivery_time  \n",
       "0               1    0    10  2017  2017-10             8  \n",
       "1               1    0    10  2017  2017-10             8  \n",
       "2               1    0    10  2017  2017-10             8  \n",
       "3               2    0     7  2018  2018-07            14  \n",
       "4               3    0     8  2018  2018-08             9  \n",
       "\n",
       "[5 rows x 33 columns]"
      ]
     },
     "execution_count": 41,
     "metadata": {},
     "output_type": "execute_result"
    }
   ],
   "source": [
    "df_sentiment.head()"
   ]
  },
  {
   "cell_type": "code",
   "execution_count": 42,
   "metadata": {
    "colab": {
     "base_uri": "https://localhost:8080/",
     "height": 206
    },
    "id": "-eYdvW5xBlLM",
    "outputId": "ff7eabba-ec7f-4fe3-fd3b-0d42653c05b3"
   },
   "outputs": [
    {
     "data": {
      "text/html": [
       "<div>\n",
       "<style scoped>\n",
       "    .dataframe tbody tr th:only-of-type {\n",
       "        vertical-align: middle;\n",
       "    }\n",
       "\n",
       "    .dataframe tbody tr th {\n",
       "        vertical-align: top;\n",
       "    }\n",
       "\n",
       "    .dataframe thead th {\n",
       "        text-align: right;\n",
       "    }\n",
       "</style>\n",
       "<table border=\"1\" class=\"dataframe\">\n",
       "  <thead>\n",
       "    <tr style=\"text-align: right;\">\n",
       "      <th></th>\n",
       "      <th>customer_id</th>\n",
       "      <th>product_id</th>\n",
       "      <th>review_score</th>\n",
       "      <th>product_category_name</th>\n",
       "      <th>price</th>\n",
       "      <th>freight_value</th>\n",
       "    </tr>\n",
       "  </thead>\n",
       "  <tbody>\n",
       "    <tr>\n",
       "      <th>0</th>\n",
       "      <td>1</td>\n",
       "      <td>1</td>\n",
       "      <td>4</td>\n",
       "      <td>utilidades_domesticas</td>\n",
       "      <td>29.99</td>\n",
       "      <td>8.72</td>\n",
       "    </tr>\n",
       "    <tr>\n",
       "      <th>1</th>\n",
       "      <td>1</td>\n",
       "      <td>1</td>\n",
       "      <td>4</td>\n",
       "      <td>utilidades_domesticas</td>\n",
       "      <td>29.99</td>\n",
       "      <td>8.72</td>\n",
       "    </tr>\n",
       "    <tr>\n",
       "      <th>2</th>\n",
       "      <td>1</td>\n",
       "      <td>1</td>\n",
       "      <td>4</td>\n",
       "      <td>utilidades_domesticas</td>\n",
       "      <td>29.99</td>\n",
       "      <td>8.72</td>\n",
       "    </tr>\n",
       "    <tr>\n",
       "      <th>3</th>\n",
       "      <td>2</td>\n",
       "      <td>2</td>\n",
       "      <td>4</td>\n",
       "      <td>perfumaria</td>\n",
       "      <td>118.70</td>\n",
       "      <td>22.76</td>\n",
       "    </tr>\n",
       "    <tr>\n",
       "      <th>4</th>\n",
       "      <td>3</td>\n",
       "      <td>3</td>\n",
       "      <td>5</td>\n",
       "      <td>automotivo</td>\n",
       "      <td>159.90</td>\n",
       "      <td>19.22</td>\n",
       "    </tr>\n",
       "  </tbody>\n",
       "</table>\n",
       "</div>"
      ],
      "text/plain": [
       "   customer_id  product_id review_score  product_category_name   price  \\\n",
       "0            1           1            4  utilidades_domesticas   29.99   \n",
       "1            1           1            4  utilidades_domesticas   29.99   \n",
       "2            1           1            4  utilidades_domesticas   29.99   \n",
       "3            2           2            4             perfumaria  118.70   \n",
       "4            3           3            5             automotivo  159.90   \n",
       "\n",
       "  freight_value  \n",
       "0          8.72  \n",
       "1          8.72  \n",
       "2          8.72  \n",
       "3         22.76  \n",
       "4         19.22  "
      ]
     },
     "execution_count": 42,
     "metadata": {},
     "output_type": "execute_result"
    }
   ],
   "source": [
    "df_recommendation.head()"
   ]
  },
  {
   "cell_type": "markdown",
   "metadata": {
    "id": "zIr8aWyARnWL"
   },
   "source": [
    "## Feature Engineering for Sentiment Analysis"
   ]
  },
  {
   "cell_type": "code",
   "execution_count": 44,
   "metadata": {
    "id": "utbU4HqL6dtA"
   },
   "outputs": [],
   "source": [
    "df1 = df[['order_status', 'payment_type','price', 'freight_value','payment_sequential','payment_installments','payment_value','delivery_time','day_of_week_int','order_delivered_customer_date','order_estimated_delivery_date', 'product_category_name', 'customer_state', 'seller_state','review_score']]"
   ]
  },
  {
   "cell_type": "code",
   "execution_count": 45,
   "metadata": {
    "colab": {
     "base_uri": "https://localhost:8080/",
     "height": 226
    },
    "id": "Az1YVkO668j4",
    "outputId": "df086e9b-d9c3-4a8b-afd8-5aeba730f065"
   },
   "outputs": [
    {
     "data": {
      "text/html": [
       "<div>\n",
       "<style scoped>\n",
       "    .dataframe tbody tr th:only-of-type {\n",
       "        vertical-align: middle;\n",
       "    }\n",
       "\n",
       "    .dataframe tbody tr th {\n",
       "        vertical-align: top;\n",
       "    }\n",
       "\n",
       "    .dataframe thead th {\n",
       "        text-align: right;\n",
       "    }\n",
       "</style>\n",
       "<table border=\"1\" class=\"dataframe\">\n",
       "  <thead>\n",
       "    <tr style=\"text-align: right;\">\n",
       "      <th></th>\n",
       "      <th>order_status</th>\n",
       "      <th>payment_type</th>\n",
       "      <th>price</th>\n",
       "      <th>freight_value</th>\n",
       "      <th>payment_sequential</th>\n",
       "      <th>payment_installments</th>\n",
       "      <th>payment_value</th>\n",
       "      <th>delivery_time</th>\n",
       "      <th>day_of_week_int</th>\n",
       "      <th>order_delivered_customer_date</th>\n",
       "      <th>order_estimated_delivery_date</th>\n",
       "      <th>product_category_name</th>\n",
       "      <th>customer_state</th>\n",
       "      <th>seller_state</th>\n",
       "      <th>review_score</th>\n",
       "    </tr>\n",
       "  </thead>\n",
       "  <tbody>\n",
       "    <tr>\n",
       "      <th>0</th>\n",
       "      <td>delivered</td>\n",
       "      <td>credit_card</td>\n",
       "      <td>29.99</td>\n",
       "      <td>8.72</td>\n",
       "      <td>1</td>\n",
       "      <td>1</td>\n",
       "      <td>18.12</td>\n",
       "      <td>8</td>\n",
       "      <td>1</td>\n",
       "      <td>2017-10-10</td>\n",
       "      <td>2017-10-18</td>\n",
       "      <td>utilidades_domesticas</td>\n",
       "      <td>SP</td>\n",
       "      <td>SP</td>\n",
       "      <td>4</td>\n",
       "    </tr>\n",
       "    <tr>\n",
       "      <th>1</th>\n",
       "      <td>delivered</td>\n",
       "      <td>voucher</td>\n",
       "      <td>29.99</td>\n",
       "      <td>8.72</td>\n",
       "      <td>3</td>\n",
       "      <td>1</td>\n",
       "      <td>2.0</td>\n",
       "      <td>8</td>\n",
       "      <td>1</td>\n",
       "      <td>2017-10-10</td>\n",
       "      <td>2017-10-18</td>\n",
       "      <td>utilidades_domesticas</td>\n",
       "      <td>SP</td>\n",
       "      <td>SP</td>\n",
       "      <td>4</td>\n",
       "    </tr>\n",
       "    <tr>\n",
       "      <th>2</th>\n",
       "      <td>delivered</td>\n",
       "      <td>voucher</td>\n",
       "      <td>29.99</td>\n",
       "      <td>8.72</td>\n",
       "      <td>2</td>\n",
       "      <td>1</td>\n",
       "      <td>18.59</td>\n",
       "      <td>8</td>\n",
       "      <td>1</td>\n",
       "      <td>2017-10-10</td>\n",
       "      <td>2017-10-18</td>\n",
       "      <td>utilidades_domesticas</td>\n",
       "      <td>SP</td>\n",
       "      <td>SP</td>\n",
       "      <td>4</td>\n",
       "    </tr>\n",
       "    <tr>\n",
       "      <th>3</th>\n",
       "      <td>delivered</td>\n",
       "      <td>boleto</td>\n",
       "      <td>118.70</td>\n",
       "      <td>22.76</td>\n",
       "      <td>1</td>\n",
       "      <td>1</td>\n",
       "      <td>141.46</td>\n",
       "      <td>14</td>\n",
       "      <td>2</td>\n",
       "      <td>2018-08-07</td>\n",
       "      <td>2018-08-13</td>\n",
       "      <td>perfumaria</td>\n",
       "      <td>BA</td>\n",
       "      <td>SP</td>\n",
       "      <td>4</td>\n",
       "    </tr>\n",
       "    <tr>\n",
       "      <th>4</th>\n",
       "      <td>delivered</td>\n",
       "      <td>credit_card</td>\n",
       "      <td>159.90</td>\n",
       "      <td>19.22</td>\n",
       "      <td>1</td>\n",
       "      <td>3</td>\n",
       "      <td>179.12</td>\n",
       "      <td>9</td>\n",
       "      <td>3</td>\n",
       "      <td>2018-08-17</td>\n",
       "      <td>2018-09-04</td>\n",
       "      <td>automotivo</td>\n",
       "      <td>GO</td>\n",
       "      <td>SP</td>\n",
       "      <td>5</td>\n",
       "    </tr>\n",
       "  </tbody>\n",
       "</table>\n",
       "</div>"
      ],
      "text/plain": [
       "  order_status payment_type   price freight_value payment_sequential  \\\n",
       "0    delivered  credit_card   29.99          8.72                  1   \n",
       "1    delivered      voucher   29.99          8.72                  3   \n",
       "2    delivered      voucher   29.99          8.72                  2   \n",
       "3    delivered       boleto  118.70         22.76                  1   \n",
       "4    delivered  credit_card  159.90         19.22                  1   \n",
       "\n",
       "  payment_installments payment_value  delivery_time  day_of_week_int  \\\n",
       "0                    1         18.12              8                1   \n",
       "1                    1           2.0              8                1   \n",
       "2                    1         18.59              8                1   \n",
       "3                    1        141.46             14                2   \n",
       "4                    3        179.12              9                3   \n",
       "\n",
       "  order_delivered_customer_date order_estimated_delivery_date  \\\n",
       "0                    2017-10-10                    2017-10-18   \n",
       "1                    2017-10-10                    2017-10-18   \n",
       "2                    2017-10-10                    2017-10-18   \n",
       "3                    2018-08-07                    2018-08-13   \n",
       "4                    2018-08-17                    2018-09-04   \n",
       "\n",
       "   product_category_name customer_state seller_state review_score  \n",
       "0  utilidades_domesticas             SP           SP            4  \n",
       "1  utilidades_domesticas             SP           SP            4  \n",
       "2  utilidades_domesticas             SP           SP            4  \n",
       "3             perfumaria             BA           SP            4  \n",
       "4             automotivo             GO           SP            5  "
      ]
     },
     "execution_count": 45,
     "metadata": {},
     "output_type": "execute_result"
    }
   ],
   "source": [
    "df1.head()"
   ]
  },
  {
   "cell_type": "code",
   "execution_count": 46,
   "metadata": {
    "colab": {
     "base_uri": "https://localhost:8080/"
    },
    "id": "tyhLBNbM7Cwc",
    "outputId": "ee48c45d-14a3-4038-c431-24aed99159dd"
   },
   "outputs": [
    {
     "name": "stderr",
     "output_type": "stream",
     "text": [
      "C:\\Users\\ASUS ROG\\AppData\\Local\\Temp\\ipykernel_4816\\1691073800.py:2: SettingWithCopyWarning: \n",
      "A value is trying to be set on a copy of a slice from a DataFrame.\n",
      "Try using .loc[row_indexer,col_indexer] = value instead\n",
      "\n",
      "See the caveats in the documentation: https://pandas.pydata.org/pandas-docs/stable/user_guide/indexing.html#returning-a-view-versus-a-copy\n",
      "  df1['order_delivered_customer_date'] = pd.to_datetime(df1['order_delivered_customer_date'])\n",
      "C:\\Users\\ASUS ROG\\AppData\\Local\\Temp\\ipykernel_4816\\1691073800.py:3: SettingWithCopyWarning: \n",
      "A value is trying to be set on a copy of a slice from a DataFrame.\n",
      "Try using .loc[row_indexer,col_indexer] = value instead\n",
      "\n",
      "See the caveats in the documentation: https://pandas.pydata.org/pandas-docs/stable/user_guide/indexing.html#returning-a-view-versus-a-copy\n",
      "  df1['order_estimated_delivery_date'] = pd.to_datetime(df1['order_estimated_delivery_date'])\n",
      "C:\\Users\\ASUS ROG\\AppData\\Local\\Temp\\ipykernel_4816\\1691073800.py:6: SettingWithCopyWarning: \n",
      "A value is trying to be set on a copy of a slice from a DataFrame.\n",
      "Try using .loc[row_indexer,col_indexer] = value instead\n",
      "\n",
      "See the caveats in the documentation: https://pandas.pydata.org/pandas-docs/stable/user_guide/indexing.html#returning-a-view-versus-a-copy\n",
      "  df1['delivery_delay'] = df1['order_delivered_customer_date'] - df1['order_estimated_delivery_date']\n",
      "C:\\Users\\ASUS ROG\\AppData\\Local\\Temp\\ipykernel_4816\\1691073800.py:9: SettingWithCopyWarning: \n",
      "A value is trying to be set on a copy of a slice from a DataFrame.\n",
      "Try using .loc[row_indexer,col_indexer] = value instead\n",
      "\n",
      "See the caveats in the documentation: https://pandas.pydata.org/pandas-docs/stable/user_guide/indexing.html#returning-a-view-versus-a-copy\n",
      "  df1['on_time_delivery'] = df1['delivery_delay'].apply(lambda x: 1 if x <= pd.Timedelta(0) else 0)\n"
     ]
    }
   ],
   "source": [
    "# Convert both columns to pandas Timestamps\n",
    "df1['order_delivered_customer_date'] = pd.to_datetime(df1['order_delivered_customer_date'])\n",
    "df1['order_estimated_delivery_date'] = pd.to_datetime(df1['order_estimated_delivery_date'])\n",
    "\n",
    "# Now subtract the two columns\n",
    "df1['delivery_delay'] = df1['order_delivered_customer_date'] - df1['order_estimated_delivery_date']\n",
    "\n",
    "# Create the 'on_time_delivery' column\n",
    "df1['on_time_delivery'] = df1['delivery_delay'].apply(lambda x: 1 if x <= pd.Timedelta(0) else 0)"
   ]
  },
  {
   "cell_type": "code",
   "execution_count": 47,
   "metadata": {
    "colab": {
     "base_uri": "https://localhost:8080/"
    },
    "id": "8u1t6g7v75iv",
    "outputId": "4db49e49-2f69-4362-b2d0-539c329e5ada"
   },
   "outputs": [
    {
     "name": "stderr",
     "output_type": "stream",
     "text": [
      "C:\\Users\\ASUS ROG\\AppData\\Local\\Temp\\ipykernel_4816\\845053363.py:4: SettingWithCopyWarning: \n",
      "A value is trying to be set on a copy of a slice from a DataFrame.\n",
      "Try using .loc[row_indexer,col_indexer] = value instead\n",
      "\n",
      "See the caveats in the documentation: https://pandas.pydata.org/pandas-docs/stable/user_guide/indexing.html#returning-a-view-versus-a-copy\n",
      "  df1[['price', 'freight_value', 'payment_value']] = scaler.fit_transform(\n"
     ]
    }
   ],
   "source": [
    "from sklearn.preprocessing import StandardScaler\n",
    "\n",
    "scaler = StandardScaler()\n",
    "df1[['price', 'freight_value', 'payment_value']] = scaler.fit_transform(\n",
    "    df1[['price', 'freight_value', 'payment_value']]\n",
    ")"
   ]
  },
  {
   "cell_type": "code",
   "execution_count": 48,
   "metadata": {
    "id": "5TQ-05JT8JTE"
   },
   "outputs": [],
   "source": [
    "df1 = pd.get_dummies(df1, columns=['product_category_name'], drop_first=True)\n",
    "df1 = pd.get_dummies(df1, columns=['payment_type'], drop_first=True)\n",
    "df1 = pd.get_dummies(df1, columns=['order_status'], drop_first=True)"
   ]
  },
  {
   "cell_type": "code",
   "execution_count": 49,
   "metadata": {
    "id": "hMf8oelo8RQD"
   },
   "outputs": [],
   "source": [
    "df1['is_weekend_purchase'] = df1['day_of_week_int'].apply(lambda x: 1 if x in [5, 6] else 0)"
   ]
  },
  {
   "cell_type": "code",
   "execution_count": 50,
   "metadata": {
    "id": "8vRIYbrX-X9F"
   },
   "outputs": [],
   "source": [
    "columns_to_drop = [\n",
    "    \"order_delivered_customer_date\", \"order_estimated_delivery_date\",\n",
    "    \"customer_state\", \"seller_state\",\n",
    "    \"payment_sequential\", \"payment_installments\", \"delivery_delay\"\n",
    "]\n",
    "\n",
    "df1 = df1.drop(columns=columns_to_drop)"
   ]
  },
  {
   "cell_type": "code",
   "execution_count": 51,
   "metadata": {
    "colab": {
     "base_uri": "https://localhost:8080/"
    },
    "id": "EIlV3gk4_qQ6",
    "outputId": "734242ce-def5-4bc7-b002-5ecfa5fdb855"
   },
   "outputs": [
    {
     "data": {
      "text/plain": [
       "Index(['price', 'freight_value', 'payment_value', 'delivery_time',\n",
       "       'day_of_week_int', 'review_score', 'on_time_delivery',\n",
       "       'product_category_name_agro_industria_e_comercio',\n",
       "       'product_category_name_alimentos',\n",
       "       'product_category_name_alimentos_bebidas',\n",
       "       'product_category_name_artes',\n",
       "       'product_category_name_artes_e_artesanato',\n",
       "       'product_category_name_artigos_de_festas',\n",
       "       'product_category_name_artigos_de_natal', 'product_category_name_audio',\n",
       "       'product_category_name_automotivo', 'product_category_name_bebes',\n",
       "       'product_category_name_bebidas', 'product_category_name_beleza_saude',\n",
       "       'product_category_name_brinquedos',\n",
       "       'product_category_name_cama_mesa_banho',\n",
       "       'product_category_name_casa_conforto',\n",
       "       'product_category_name_casa_conforto_2',\n",
       "       'product_category_name_casa_construcao',\n",
       "       'product_category_name_cds_dvds_musicais',\n",
       "       'product_category_name_cine_foto', 'product_category_name_climatizacao',\n",
       "       'product_category_name_consoles_games',\n",
       "       'product_category_name_construcao_ferramentas_construcao',\n",
       "       'product_category_name_construcao_ferramentas_ferramentas',\n",
       "       'product_category_name_construcao_ferramentas_iluminacao',\n",
       "       'product_category_name_construcao_ferramentas_jardim',\n",
       "       'product_category_name_construcao_ferramentas_seguranca',\n",
       "       'product_category_name_cool_stuff',\n",
       "       'product_category_name_dvds_blu_ray',\n",
       "       'product_category_name_eletrodomesticos',\n",
       "       'product_category_name_eletrodomesticos_2',\n",
       "       'product_category_name_eletronicos',\n",
       "       'product_category_name_eletroportateis',\n",
       "       'product_category_name_esporte_lazer',\n",
       "       'product_category_name_fashion_bolsas_e_acessorios',\n",
       "       'product_category_name_fashion_calcados',\n",
       "       'product_category_name_fashion_esporte',\n",
       "       'product_category_name_fashion_roupa_feminina',\n",
       "       'product_category_name_fashion_roupa_infanto_juvenil',\n",
       "       'product_category_name_fashion_roupa_masculina',\n",
       "       'product_category_name_fashion_underwear_e_moda_praia',\n",
       "       'product_category_name_ferramentas_jardim',\n",
       "       'product_category_name_flores', 'product_category_name_fraldas_higiene',\n",
       "       'product_category_name_industria_comercio_e_negocios',\n",
       "       'product_category_name_informatica_acessorios',\n",
       "       'product_category_name_instrumentos_musicais',\n",
       "       'product_category_name_la_cuisine',\n",
       "       'product_category_name_livros_importados',\n",
       "       'product_category_name_livros_interesse_geral',\n",
       "       'product_category_name_livros_tecnicos',\n",
       "       'product_category_name_malas_acessorios',\n",
       "       'product_category_name_market_place',\n",
       "       'product_category_name_moveis_colchao_e_estofado',\n",
       "       'product_category_name_moveis_cozinha_area_de_servico_jantar_e_jardim',\n",
       "       'product_category_name_moveis_decoracao',\n",
       "       'product_category_name_moveis_escritorio',\n",
       "       'product_category_name_moveis_quarto',\n",
       "       'product_category_name_moveis_sala', 'product_category_name_musica',\n",
       "       'product_category_name_papelaria', 'product_category_name_pc_gamer',\n",
       "       'product_category_name_pcs', 'product_category_name_perfumaria',\n",
       "       'product_category_name_pet_shop',\n",
       "       'product_category_name_portateis_casa_forno_e_cafe',\n",
       "       'product_category_name_portateis_cozinha_e_preparadores_de_alimentos',\n",
       "       'product_category_name_relogios_presentes',\n",
       "       'product_category_name_seguros_e_servicos',\n",
       "       'product_category_name_sinalizacao_e_seguranca',\n",
       "       'product_category_name_tablets_impressao_imagem',\n",
       "       'product_category_name_telefonia',\n",
       "       'product_category_name_telefonia_fixa',\n",
       "       'product_category_name_utilidades_domesticas',\n",
       "       'payment_type_credit_card', 'payment_type_debit_card',\n",
       "       'payment_type_voucher', 'order_status_canceled',\n",
       "       'order_status_delivered', 'order_status_invoiced',\n",
       "       'order_status_processing', 'order_status_shipped',\n",
       "       'order_status_unavailable', 'is_weekend_purchase'],\n",
       "      dtype='object')"
      ]
     },
     "execution_count": 51,
     "metadata": {},
     "output_type": "execute_result"
    }
   ],
   "source": [
    "df1.columns"
   ]
  },
  {
   "cell_type": "markdown",
   "metadata": {
    "id": "3zYabTg-S5GS"
   },
   "source": [
    "Final Features for df_sentiment\n",
    "\n",
    "* Numerical:` price`,` freight_value`, `payment_value`, `delivery_delay`, `on_time_delivery`,` is_weekend_purchase`\n",
    "* Categorical (Encoded): `payment_type_encoded`, `order_status_encoded`, `product_category_name_encoded`"
   ]
  },
  {
   "cell_type": "code",
   "execution_count": 53,
   "metadata": {
    "id": "8ScEicl4-mM-"
   },
   "outputs": [],
   "source": [
    "from sklearn.model_selection import train_test_split\n",
    "\n",
    "# Define target variable\n",
    "X = df1.drop(['review_score'], axis=1)\n",
    "y = df1['review_score']\n",
    "\n",
    "# Split into Train & Test Sets (80-20 split)\n",
    "X_train, X_test, y_train, y_test = train_test_split(X, y, test_size=0.2, stratify=y)"
   ]
  },
  {
   "cell_type": "code",
   "execution_count": 54,
   "metadata": {
    "id": "Gl-lRRmgTGfm"
   },
   "outputs": [],
   "source": [
    "# Identify timedelta columns\n",
    "timedelta_cols = X_train.select_dtypes(include=['timedelta64']).columns\n",
    "\n",
    "# Convert to numeric (e.g., seconds)\n",
    "for col in timedelta_cols:\n",
    "    X_train[col] = X_train[col].dt.total_seconds()\n",
    "    X_test[col] = X_test[col].dt.total_seconds()"
   ]
  },
  {
   "cell_type": "code",
   "execution_count": 55,
   "metadata": {
    "colab": {
     "base_uri": "https://localhost:8080/"
    },
    "id": "lUJtSNAs-3m8",
    "outputId": "303181f1-9845-497c-d755-66571d17bb7b"
   },
   "outputs": [
    {
     "name": "stderr",
     "output_type": "stream",
     "text": [
      "C:\\ProgramData\\anaconda3\\Lib\\site-packages\\sklearn\\linear_model\\_logistic.py:469: ConvergenceWarning: lbfgs failed to converge (status=1):\n",
      "STOP: TOTAL NO. of ITERATIONS REACHED LIMIT.\n",
      "\n",
      "Increase the number of iterations (max_iter) or scale the data as shown in:\n",
      "    https://scikit-learn.org/stable/modules/preprocessing.html\n",
      "Please also refer to the documentation for alternative solver options:\n",
      "    https://scikit-learn.org/stable/modules/linear_model.html#logistic-regression\n",
      "  n_iter_i = _check_optimize_result(\n",
      "C:\\ProgramData\\anaconda3\\Lib\\site-packages\\sklearn\\metrics\\_classification.py:1509: UndefinedMetricWarning: Precision is ill-defined and being set to 0.0 in labels with no predicted samples. Use `zero_division` parameter to control this behavior.\n",
      "  _warn_prf(average, modifier, f\"{metric.capitalize()} is\", len(result))\n"
     ]
    },
    {
     "name": "stdout",
     "output_type": "stream",
     "text": [
      "Logistic Regression Accuracy: 0.5884861407249466\n",
      "              precision    recall  f1-score   support\n",
      "\n",
      "           1       0.59      0.24      0.34      2961\n",
      "           2       0.00      0.00      0.00       816\n",
      "           3       0.00      0.00      0.00      1967\n",
      "           4       0.00      0.00      0.00      4455\n",
      "           5       0.59      0.99      0.74     13251\n",
      "\n",
      "    accuracy                           0.59     23450\n",
      "   macro avg       0.24      0.25      0.22     23450\n",
      "weighted avg       0.41      0.59      0.46     23450\n",
      "\n"
     ]
    },
    {
     "name": "stderr",
     "output_type": "stream",
     "text": [
      "C:\\ProgramData\\anaconda3\\Lib\\site-packages\\sklearn\\metrics\\_classification.py:1509: UndefinedMetricWarning: Precision is ill-defined and being set to 0.0 in labels with no predicted samples. Use `zero_division` parameter to control this behavior.\n",
      "  _warn_prf(average, modifier, f\"{metric.capitalize()} is\", len(result))\n",
      "C:\\ProgramData\\anaconda3\\Lib\\site-packages\\sklearn\\metrics\\_classification.py:1509: UndefinedMetricWarning: Precision is ill-defined and being set to 0.0 in labels with no predicted samples. Use `zero_division` parameter to control this behavior.\n",
      "  _warn_prf(average, modifier, f\"{metric.capitalize()} is\", len(result))\n"
     ]
    }
   ],
   "source": [
    "from sklearn.linear_model import LogisticRegression\n",
    "from sklearn.metrics import accuracy_score, classification_report\n",
    "\n",
    "# Train model\n",
    "log_reg = LogisticRegression(max_iter=1000)\n",
    "log_reg.fit(X_train, y_train)\n",
    "\n",
    "# Predictions\n",
    "y_pred_logreg = log_reg.predict(X_test)\n",
    "\n",
    "# Evaluation\n",
    "print(\"Logistic Regression Accuracy:\", accuracy_score(y_test, y_pred_logreg))\n",
    "print(classification_report(y_test, y_pred_logreg))"
   ]
  },
  {
   "cell_type": "code",
   "execution_count": 56,
   "metadata": {
    "colab": {
     "base_uri": "https://localhost:8080/"
    },
    "id": "NL_N7JCcC3JE",
    "outputId": "79d252b2-86ed-4285-a8c0-0de49328480c"
   },
   "outputs": [
    {
     "name": "stdout",
     "output_type": "stream",
     "text": [
      "Decision Tree Accuracy: 0.6037526652452025\n",
      "              precision    recall  f1-score   support\n",
      "\n",
      "           1       0.61      0.39      0.47      2961\n",
      "           2       0.35      0.01      0.03       816\n",
      "           3       0.24      0.01      0.02      1967\n",
      "           4       0.43      0.01      0.02      4455\n",
      "           5       0.61      0.98      0.75     13251\n",
      "\n",
      "    accuracy                           0.60     23450\n",
      "   macro avg       0.45      0.28      0.26     23450\n",
      "weighted avg       0.53      0.60      0.49     23450\n",
      "\n"
     ]
    }
   ],
   "source": [
    "from sklearn.tree import DecisionTreeClassifier\n",
    "from sklearn.metrics import accuracy_score, classification_report\n",
    "\n",
    "# Train model\n",
    "dt_model = DecisionTreeClassifier(max_depth=10, random_state=42)\n",
    "dt_model.fit(X_train, y_train)\n",
    "\n",
    "# Predictions\n",
    "y_pred_dt = dt_model.predict(X_test)\n",
    "\n",
    "# Evaluation\n",
    "print(\"Decision Tree Accuracy:\", accuracy_score(y_test, y_pred_dt))\n",
    "print(classification_report(y_test, y_pred_dt))"
   ]
  },
  {
   "cell_type": "code",
   "execution_count": 57,
   "metadata": {
    "colab": {
     "base_uri": "https://localhost:8080/"
    },
    "id": "K9xqg6dMF8dD",
    "outputId": "ad3fdfb5-a6aa-499d-dccd-90c5e631cb97"
   },
   "outputs": [
    {
     "name": "stdout",
     "output_type": "stream",
     "text": [
      "Random Forest Accuracy: 0.6002132196162047\n"
     ]
    },
    {
     "name": "stderr",
     "output_type": "stream",
     "text": [
      "C:\\ProgramData\\anaconda3\\Lib\\site-packages\\sklearn\\metrics\\_classification.py:1509: UndefinedMetricWarning: Precision is ill-defined and being set to 0.0 in labels with no predicted samples. Use `zero_division` parameter to control this behavior.\n",
      "  _warn_prf(average, modifier, f\"{metric.capitalize()} is\", len(result))\n",
      "C:\\ProgramData\\anaconda3\\Lib\\site-packages\\sklearn\\metrics\\_classification.py:1509: UndefinedMetricWarning: Precision is ill-defined and being set to 0.0 in labels with no predicted samples. Use `zero_division` parameter to control this behavior.\n",
      "  _warn_prf(average, modifier, f\"{metric.capitalize()} is\", len(result))\n"
     ]
    },
    {
     "name": "stdout",
     "output_type": "stream",
     "text": [
      "              precision    recall  f1-score   support\n",
      "\n",
      "           1       0.62      0.35      0.45      2961\n",
      "           2       1.00      0.00      0.01       816\n",
      "           3       0.00      0.00      0.00      1967\n",
      "           4       0.00      0.00      0.00      4455\n",
      "           5       0.60      0.98      0.74     13251\n",
      "\n",
      "    accuracy                           0.60     23450\n",
      "   macro avg       0.44      0.27      0.24     23450\n",
      "weighted avg       0.45      0.60      0.48     23450\n",
      "\n"
     ]
    },
    {
     "name": "stderr",
     "output_type": "stream",
     "text": [
      "C:\\ProgramData\\anaconda3\\Lib\\site-packages\\sklearn\\metrics\\_classification.py:1509: UndefinedMetricWarning: Precision is ill-defined and being set to 0.0 in labels with no predicted samples. Use `zero_division` parameter to control this behavior.\n",
      "  _warn_prf(average, modifier, f\"{metric.capitalize()} is\", len(result))\n"
     ]
    }
   ],
   "source": [
    "from sklearn.ensemble import RandomForestClassifier\n",
    "from sklearn.metrics import accuracy_score, classification_report\n",
    "\n",
    "# Train model\n",
    "rf_model = RandomForestClassifier(n_estimators=100, max_depth=10, random_state=42)\n",
    "rf_model.fit(X_train, y_train)\n",
    "\n",
    "# Predictions\n",
    "y_pred_rf = rf_model.predict(X_test)\n",
    "\n",
    "# Evaluation\n",
    "print(\"Random Forest Accuracy:\", accuracy_score(y_test, y_pred_rf))\n",
    "print(classification_report(y_test, y_pred_rf))"
   ]
  },
  {
   "cell_type": "code",
   "execution_count": 58,
   "metadata": {
    "colab": {
     "base_uri": "https://localhost:8080/"
    },
    "id": "lbNusOLLGBy3",
    "outputId": "73cc3fa4-aee0-4a09-81ed-340c226a36cc"
   },
   "outputs": [
    {
     "name": "stdout",
     "output_type": "stream",
     "text": [
      "XGBoost Accuracy: 0.6056289978678039\n",
      "              precision    recall  f1-score   support\n",
      "\n",
      "           1       0.61      0.39      0.47      2961\n",
      "           2       1.00      0.01      0.02       816\n",
      "           3       0.91      0.01      0.02      1967\n",
      "           4       0.80      0.00      0.01      4455\n",
      "           5       0.60      0.98      0.75     13251\n",
      "\n",
      "    accuracy                           0.61     23450\n",
      "   macro avg       0.79      0.28      0.25     23450\n",
      "weighted avg       0.68      0.61      0.49     23450\n",
      "\n"
     ]
    }
   ],
   "source": [
    "from sklearn.preprocessing import LabelEncoder\n",
    "from xgboost import XGBClassifier\n",
    "from sklearn.metrics import accuracy_score, classification_report\n",
    "\n",
    "# Encode labels to numeric format\n",
    "label_encoder = LabelEncoder()\n",
    "y_train_encoded = label_encoder.fit_transform(y_train)\n",
    "y_test_encoded = label_encoder.transform(y_test)\n",
    "\n",
    "# Train XGBoost model\n",
    "xgb_model = XGBClassifier(n_estimators=100, learning_rate=0.05, max_depth=6, random_state=42)\n",
    "xgb_model.fit(X_train, y_train_encoded)\n",
    "\n",
    "# Predictions\n",
    "y_pred_xgb = xgb_model.predict(X_test)\n",
    "\n",
    "# Convert predictions back to original labels\n",
    "y_pred_xgb = label_encoder.inverse_transform(y_pred_xgb)\n",
    "\n",
    "# Evaluation\n",
    "print(\"XGBoost Accuracy:\", accuracy_score(y_test, y_pred_xgb))\n",
    "print(classification_report(y_test, y_pred_xgb))"
   ]
  },
  {
   "cell_type": "code",
   "execution_count": 90,
   "metadata": {},
   "outputs": [
    {
     "data": {
      "text/plain": [
       "['xgb_model.pkl']"
      ]
     },
     "execution_count": 90,
     "metadata": {},
     "output_type": "execute_result"
    }
   ],
   "source": [
    "import joblib\n",
    "joblib.dump(xgb_model, 'xgb_model.pkl')"
   ]
  },
  {
   "cell_type": "code",
   "execution_count": null,
   "metadata": {},
   "outputs": [],
   "source": []
  },
  {
   "cell_type": "code",
   "execution_count": 59,
   "metadata": {
    "id": "zUY4kpZuGKK2"
   },
   "outputs": [],
   "source": [
    "# from sklearn.svm import SVC\n",
    "\n",
    "# # Ensure y_train and y_test are in their original format (not encoded)\n",
    "# y_train_original = label_encoder.inverse_transform(y_train_encoded)\n",
    "# y_test_original = label_encoder.inverse_transform(y_test_encoded)\n",
    "\n",
    "# ### **SVC Model**\n",
    "# svc_model = SVC(kernel='rbf', C=1.0, random_state=42)\n",
    "# # svc_model.fit(X_train, y_train_original)\n",
    "\n",
    "# y_pred_svc = svc_model.predict(X_test)\n",
    "\n",
    "# print(\"SVC Accuracy:\", accuracy_score(y_test_original, y_pred_svc))\n",
    "# print(classification_report(y_test_original, y_pred_svc))"
   ]
  },
  {
   "cell_type": "code",
   "execution_count": 60,
   "metadata": {
    "id": "UK_59WEqLGBV"
   },
   "outputs": [],
   "source": [
    "# from sklearn.neural_network import MLPClassifier\n",
    "\n",
    "# ### **MLPClassifier Model**\n",
    "# mlp_model = MLPClassifier(hidden_layer_sizes=(100,50), max_iter=500, random_state=42)\n",
    "# mlp_model.fit(X_train, y_train_original)\n",
    "\n",
    "# y_pred_mlp = mlp_model.predict(X_test)\n",
    "\n",
    "# print(\"MLP Accuracy:\", accuracy_score(y_test_original, y_pred_mlp))\n",
    "# print(classification_report(y_test_original, y_pred_mlp))"
   ]
  },
  {
   "cell_type": "markdown",
   "metadata": {
    "id": "ygsXlybpTZOY"
   },
   "source": [
    "## Feature Engineering for Recommendation System"
   ]
  },
  {
   "cell_type": "markdown",
   "metadata": {
    "id": "Xdx6pfrrCwVi"
   },
   "source": [
    "#### Step 1: Drop Missing Reviews"
   ]
  },
  {
   "cell_type": "code",
   "execution_count": 63,
   "metadata": {
    "id": "I3_jXNWLTk2q"
   },
   "outputs": [],
   "source": [
    "df_recommendation = df_recommendation.dropna(subset=['review_score'])"
   ]
  },
  {
   "cell_type": "markdown",
   "metadata": {
    "id": "PjJ32MUiTwjk"
   },
   "source": [
    "#### Step 2: Encode Categorical Variables"
   ]
  },
  {
   "cell_type": "code",
   "execution_count": 65,
   "metadata": {
    "id": "ttbdo-ARTzRU"
   },
   "outputs": [],
   "source": [
    "from sklearn.preprocessing import LabelEncoder\n",
    "\n",
    "le = LabelEncoder()\n",
    "df_recommendation['product_category_encoded'] = le.fit_transform(df_recommendation['product_category_name'])\n",
    "df_recommendation = df_recommendation.drop(['product_category_name'], axis=1)"
   ]
  },
  {
   "cell_type": "markdown",
   "metadata": {
    "id": "PQQjx-GtTYGY"
   },
   "source": [
    "#### Step 3: Normalize Price"
   ]
  },
  {
   "cell_type": "code",
   "execution_count": 67,
   "metadata": {
    "id": "fRGYtDZxT5Ao"
   },
   "outputs": [],
   "source": [
    "df_recommendation['normalized_price'] = (df_recommendation['price'] - df_recommendation['price'].mean()) / df_recommendation['price'].std()"
   ]
  },
  {
   "cell_type": "markdown",
   "metadata": {
    "id": "9gfjFMvjT60W"
   },
   "source": [
    "#### Step 4: Convert Ratings into Implicit Feedback"
   ]
  },
  {
   "cell_type": "code",
   "execution_count": 69,
   "metadata": {
    "id": "C4OTAT9qUEmc"
   },
   "outputs": [],
   "source": [
    "df_recommendation['review_score'] = pd.to_numeric(df_recommendation['review_score'], errors='coerce')\n",
    "df_recommendation['positive_review'] = df_recommendation['review_score'].apply(lambda x: 1 if x >= 4 else 0)"
   ]
  },
  {
   "cell_type": "code",
   "execution_count": 70,
   "metadata": {
    "id": "tL5JDISdKuU0"
   },
   "outputs": [],
   "source": [
    "from sklearn.preprocessing import MinMaxScaler\n",
    "\n",
    "scaler = MinMaxScaler()\n",
    "df_recommendation[['normalized_price', 'freight_value']] = scaler.fit_transform(df_recommendation[['price', 'freight_value']])"
   ]
  },
  {
   "cell_type": "markdown",
   "metadata": {
    "id": "FVEht_HSUG4f"
   },
   "source": [
    "Final Features for df_recommendation\n",
    "\n",
    "* Collaborative Filtering: `customer_id`, `product_id`, `review_score`\n",
    "* Content-Based Filtering: `product_category_encoded`, `normalized_price`, `freight_value`"
   ]
  },
  {
   "cell_type": "code",
   "execution_count": 72,
   "metadata": {
    "colab": {
     "base_uri": "https://localhost:8080/",
     "height": 226
    },
    "id": "BUnXblknDX9h",
    "outputId": "2bb5b8ce-cf68-4101-e60e-32c022d52c75"
   },
   "outputs": [
    {
     "data": {
      "text/html": [
       "<div>\n",
       "<style scoped>\n",
       "    .dataframe tbody tr th:only-of-type {\n",
       "        vertical-align: middle;\n",
       "    }\n",
       "\n",
       "    .dataframe tbody tr th {\n",
       "        vertical-align: top;\n",
       "    }\n",
       "\n",
       "    .dataframe thead th {\n",
       "        text-align: right;\n",
       "    }\n",
       "</style>\n",
       "<table border=\"1\" class=\"dataframe\">\n",
       "  <thead>\n",
       "    <tr style=\"text-align: right;\">\n",
       "      <th></th>\n",
       "      <th>customer_id</th>\n",
       "      <th>product_id</th>\n",
       "      <th>review_score</th>\n",
       "      <th>price</th>\n",
       "      <th>freight_value</th>\n",
       "      <th>product_category_encoded</th>\n",
       "      <th>normalized_price</th>\n",
       "      <th>positive_review</th>\n",
       "    </tr>\n",
       "  </thead>\n",
       "  <tbody>\n",
       "    <tr>\n",
       "      <th>0</th>\n",
       "      <td>1</td>\n",
       "      <td>1</td>\n",
       "      <td>4</td>\n",
       "      <td>29.99</td>\n",
       "      <td>0.021285</td>\n",
       "      <td>73</td>\n",
       "      <td>0.004327</td>\n",
       "      <td>1</td>\n",
       "    </tr>\n",
       "    <tr>\n",
       "      <th>1</th>\n",
       "      <td>1</td>\n",
       "      <td>1</td>\n",
       "      <td>4</td>\n",
       "      <td>29.99</td>\n",
       "      <td>0.021285</td>\n",
       "      <td>73</td>\n",
       "      <td>0.004327</td>\n",
       "      <td>1</td>\n",
       "    </tr>\n",
       "    <tr>\n",
       "      <th>2</th>\n",
       "      <td>1</td>\n",
       "      <td>1</td>\n",
       "      <td>4</td>\n",
       "      <td>29.99</td>\n",
       "      <td>0.021285</td>\n",
       "      <td>73</td>\n",
       "      <td>0.004327</td>\n",
       "      <td>1</td>\n",
       "    </tr>\n",
       "    <tr>\n",
       "      <th>3</th>\n",
       "      <td>2</td>\n",
       "      <td>2</td>\n",
       "      <td>4</td>\n",
       "      <td>118.70</td>\n",
       "      <td>0.055556</td>\n",
       "      <td>63</td>\n",
       "      <td>0.017500</td>\n",
       "      <td>1</td>\n",
       "    </tr>\n",
       "    <tr>\n",
       "      <th>4</th>\n",
       "      <td>3</td>\n",
       "      <td>3</td>\n",
       "      <td>5</td>\n",
       "      <td>159.90</td>\n",
       "      <td>0.046915</td>\n",
       "      <td>9</td>\n",
       "      <td>0.023618</td>\n",
       "      <td>1</td>\n",
       "    </tr>\n",
       "  </tbody>\n",
       "</table>\n",
       "</div>"
      ],
      "text/plain": [
       "   customer_id  product_id  review_score   price  freight_value  \\\n",
       "0            1           1             4   29.99       0.021285   \n",
       "1            1           1             4   29.99       0.021285   \n",
       "2            1           1             4   29.99       0.021285   \n",
       "3            2           2             4  118.70       0.055556   \n",
       "4            3           3             5  159.90       0.046915   \n",
       "\n",
       "   product_category_encoded  normalized_price  positive_review  \n",
       "0                        73          0.004327                1  \n",
       "1                        73          0.004327                1  \n",
       "2                        73          0.004327                1  \n",
       "3                        63          0.017500                1  \n",
       "4                         9          0.023618                1  "
      ]
     },
     "execution_count": 72,
     "metadata": {},
     "output_type": "execute_result"
    }
   ],
   "source": [
    "df_recommendation.head()"
   ]
  },
  {
   "cell_type": "code",
   "execution_count": 73,
   "metadata": {
    "id": "hREJoYlVKuU0"
   },
   "outputs": [],
   "source": [
    "from sklearn.preprocessing import LabelEncoder\n",
    "\n",
    "customer_encoder = LabelEncoder()\n",
    "product_encoder = LabelEncoder()\n",
    "\n",
    "df_recommendation['customer_id_encoded'] = customer_encoder.fit_transform(df['customer_id'])\n",
    "df_recommendation['product_id_encoded'] = product_encoder.fit_transform(df['product_id'])"
   ]
  },
  {
   "cell_type": "code",
   "execution_count": 74,
   "metadata": {
    "colab": {
     "base_uri": "https://localhost:8080/"
    },
    "id": "IAhXmOs3jpua",
    "outputId": "77889a80-e96f-4004-fb86-4b5fe295cc4b"
   },
   "outputs": [
    {
     "data": {
      "text/plain": [
       "Index(['customer_id', 'product_id', 'review_score', 'price', 'freight_value',\n",
       "       'product_category_encoded', 'normalized_price', 'positive_review',\n",
       "       'customer_id_encoded', 'product_id_encoded'],\n",
       "      dtype='object')"
      ]
     },
     "execution_count": 74,
     "metadata": {},
     "output_type": "execute_result"
    }
   ],
   "source": [
    "df_recommendation.columns"
   ]
  },
  {
   "cell_type": "code",
   "execution_count": 75,
   "metadata": {
    "id": "dX-cIvtwMEwi"
   },
   "outputs": [],
   "source": [
    "import pandas as pd\n",
    "import numpy as np\n",
    "from sklearn.neighbors import NearestNeighbors\n",
    "from sklearn.preprocessing import StandardScaler"
   ]
  },
  {
   "cell_type": "code",
   "execution_count": 76,
   "metadata": {
    "id": "-LG71frDmHxM"
   },
   "outputs": [],
   "source": [
    "# Let's assume df_recommendation is your DataFrame\n",
    "df_recommendation['customer_id'] = df_recommendation['customer_id'].astype(str)  # Ensure customer_id is a string\n",
    "\n",
    "# Feature scaling\n",
    "scaler = StandardScaler()\n",
    "df_recommendation[['price', 'freight_value', 'normalized_price']] = scaler.fit_transform(df_recommendation[['price', 'freight_value', 'normalized_price']])\n",
    "\n",
    "# For encoding, we could use one-hot encoding for categorical columns if required.\n",
    "df_recommendation = pd.get_dummies(df_recommendation, columns=['product_category_encoded'], drop_first=True)"
   ]
  },
  {
   "cell_type": "code",
   "execution_count": 77,
   "metadata": {},
   "outputs": [],
   "source": [
    "# Filter top 1000 most frequently purchased products\n",
    "top_products = df_recommendation['product_id'].value_counts().index[:1000]\n",
    "df_filtered = df_recommendation[df_recommendation['product_id'].isin(top_products)]"
   ]
  },
  {
   "cell_type": "code",
   "execution_count": 78,
   "metadata": {},
   "outputs": [],
   "source": [
    "df_recommendation['price'] = df_recommendation['price'].astype('float32')\n",
    "df_recommendation['freight_value'] = df_recommendation['freight_value'].astype('float32')\n",
    "df_recommendation['normalized_price'] = df_recommendation['normalized_price'].astype('float32')"
   ]
  },
  {
   "cell_type": "code",
   "execution_count": 79,
   "metadata": {},
   "outputs": [],
   "source": [
    "df_grouped = df_recommendation.groupby(['customer_id', 'product_id'])[['price', 'freight_value', 'normalized_price']].mean().reset_index()"
   ]
  },
  {
   "cell_type": "code",
   "execution_count": 80,
   "metadata": {},
   "outputs": [],
   "source": [
    "from scipy.sparse import csr_matrix\n",
    "\n",
    "pivot_table = df_filtered.pivot_table(index='customer_id', columns='product_id', values=['price', 'freight_value', 'normalized_price'], aggfunc='mean')\n",
    "\n",
    "# Convert to a sparse matrix\n",
    "pivot_table_sparse = csr_matrix(pivot_table.fillna(0).values)\n"
   ]
  },
  {
   "cell_type": "code",
   "execution_count": 81,
   "metadata": {},
   "outputs": [],
   "source": [
    "pivot_table = pivot_table.fillna(0)"
   ]
  },
  {
   "cell_type": "code",
   "execution_count": 82,
   "metadata": {
    "id": "OzyXXUfGm5oj"
   },
   "outputs": [
    {
     "data": {
      "text/html": [
       "<style>#sk-container-id-1 {\n",
       "  /* Definition of color scheme common for light and dark mode */\n",
       "  --sklearn-color-text: black;\n",
       "  --sklearn-color-line: gray;\n",
       "  /* Definition of color scheme for unfitted estimators */\n",
       "  --sklearn-color-unfitted-level-0: #fff5e6;\n",
       "  --sklearn-color-unfitted-level-1: #f6e4d2;\n",
       "  --sklearn-color-unfitted-level-2: #ffe0b3;\n",
       "  --sklearn-color-unfitted-level-3: chocolate;\n",
       "  /* Definition of color scheme for fitted estimators */\n",
       "  --sklearn-color-fitted-level-0: #f0f8ff;\n",
       "  --sklearn-color-fitted-level-1: #d4ebff;\n",
       "  --sklearn-color-fitted-level-2: #b3dbfd;\n",
       "  --sklearn-color-fitted-level-3: cornflowerblue;\n",
       "\n",
       "  /* Specific color for light theme */\n",
       "  --sklearn-color-text-on-default-background: var(--sg-text-color, var(--theme-code-foreground, var(--jp-content-font-color1, black)));\n",
       "  --sklearn-color-background: var(--sg-background-color, var(--theme-background, var(--jp-layout-color0, white)));\n",
       "  --sklearn-color-border-box: var(--sg-text-color, var(--theme-code-foreground, var(--jp-content-font-color1, black)));\n",
       "  --sklearn-color-icon: #696969;\n",
       "\n",
       "  @media (prefers-color-scheme: dark) {\n",
       "    /* Redefinition of color scheme for dark theme */\n",
       "    --sklearn-color-text-on-default-background: var(--sg-text-color, var(--theme-code-foreground, var(--jp-content-font-color1, white)));\n",
       "    --sklearn-color-background: var(--sg-background-color, var(--theme-background, var(--jp-layout-color0, #111)));\n",
       "    --sklearn-color-border-box: var(--sg-text-color, var(--theme-code-foreground, var(--jp-content-font-color1, white)));\n",
       "    --sklearn-color-icon: #878787;\n",
       "  }\n",
       "}\n",
       "\n",
       "#sk-container-id-1 {\n",
       "  color: var(--sklearn-color-text);\n",
       "}\n",
       "\n",
       "#sk-container-id-1 pre {\n",
       "  padding: 0;\n",
       "}\n",
       "\n",
       "#sk-container-id-1 input.sk-hidden--visually {\n",
       "  border: 0;\n",
       "  clip: rect(1px 1px 1px 1px);\n",
       "  clip: rect(1px, 1px, 1px, 1px);\n",
       "  height: 1px;\n",
       "  margin: -1px;\n",
       "  overflow: hidden;\n",
       "  padding: 0;\n",
       "  position: absolute;\n",
       "  width: 1px;\n",
       "}\n",
       "\n",
       "#sk-container-id-1 div.sk-dashed-wrapped {\n",
       "  border: 1px dashed var(--sklearn-color-line);\n",
       "  margin: 0 0.4em 0.5em 0.4em;\n",
       "  box-sizing: border-box;\n",
       "  padding-bottom: 0.4em;\n",
       "  background-color: var(--sklearn-color-background);\n",
       "}\n",
       "\n",
       "#sk-container-id-1 div.sk-container {\n",
       "  /* jupyter's `normalize.less` sets `[hidden] { display: none; }`\n",
       "     but bootstrap.min.css set `[hidden] { display: none !important; }`\n",
       "     so we also need the `!important` here to be able to override the\n",
       "     default hidden behavior on the sphinx rendered scikit-learn.org.\n",
       "     See: https://github.com/scikit-learn/scikit-learn/issues/21755 */\n",
       "  display: inline-block !important;\n",
       "  position: relative;\n",
       "}\n",
       "\n",
       "#sk-container-id-1 div.sk-text-repr-fallback {\n",
       "  display: none;\n",
       "}\n",
       "\n",
       "div.sk-parallel-item,\n",
       "div.sk-serial,\n",
       "div.sk-item {\n",
       "  /* draw centered vertical line to link estimators */\n",
       "  background-image: linear-gradient(var(--sklearn-color-text-on-default-background), var(--sklearn-color-text-on-default-background));\n",
       "  background-size: 2px 100%;\n",
       "  background-repeat: no-repeat;\n",
       "  background-position: center center;\n",
       "}\n",
       "\n",
       "/* Parallel-specific style estimator block */\n",
       "\n",
       "#sk-container-id-1 div.sk-parallel-item::after {\n",
       "  content: \"\";\n",
       "  width: 100%;\n",
       "  border-bottom: 2px solid var(--sklearn-color-text-on-default-background);\n",
       "  flex-grow: 1;\n",
       "}\n",
       "\n",
       "#sk-container-id-1 div.sk-parallel {\n",
       "  display: flex;\n",
       "  align-items: stretch;\n",
       "  justify-content: center;\n",
       "  background-color: var(--sklearn-color-background);\n",
       "  position: relative;\n",
       "}\n",
       "\n",
       "#sk-container-id-1 div.sk-parallel-item {\n",
       "  display: flex;\n",
       "  flex-direction: column;\n",
       "}\n",
       "\n",
       "#sk-container-id-1 div.sk-parallel-item:first-child::after {\n",
       "  align-self: flex-end;\n",
       "  width: 50%;\n",
       "}\n",
       "\n",
       "#sk-container-id-1 div.sk-parallel-item:last-child::after {\n",
       "  align-self: flex-start;\n",
       "  width: 50%;\n",
       "}\n",
       "\n",
       "#sk-container-id-1 div.sk-parallel-item:only-child::after {\n",
       "  width: 0;\n",
       "}\n",
       "\n",
       "/* Serial-specific style estimator block */\n",
       "\n",
       "#sk-container-id-1 div.sk-serial {\n",
       "  display: flex;\n",
       "  flex-direction: column;\n",
       "  align-items: center;\n",
       "  background-color: var(--sklearn-color-background);\n",
       "  padding-right: 1em;\n",
       "  padding-left: 1em;\n",
       "}\n",
       "\n",
       "\n",
       "/* Toggleable style: style used for estimator/Pipeline/ColumnTransformer box that is\n",
       "clickable and can be expanded/collapsed.\n",
       "- Pipeline and ColumnTransformer use this feature and define the default style\n",
       "- Estimators will overwrite some part of the style using the `sk-estimator` class\n",
       "*/\n",
       "\n",
       "/* Pipeline and ColumnTransformer style (default) */\n",
       "\n",
       "#sk-container-id-1 div.sk-toggleable {\n",
       "  /* Default theme specific background. It is overwritten whether we have a\n",
       "  specific estimator or a Pipeline/ColumnTransformer */\n",
       "  background-color: var(--sklearn-color-background);\n",
       "}\n",
       "\n",
       "/* Toggleable label */\n",
       "#sk-container-id-1 label.sk-toggleable__label {\n",
       "  cursor: pointer;\n",
       "  display: block;\n",
       "  width: 100%;\n",
       "  margin-bottom: 0;\n",
       "  padding: 0.5em;\n",
       "  box-sizing: border-box;\n",
       "  text-align: center;\n",
       "}\n",
       "\n",
       "#sk-container-id-1 label.sk-toggleable__label-arrow:before {\n",
       "  /* Arrow on the left of the label */\n",
       "  content: \"▸\";\n",
       "  float: left;\n",
       "  margin-right: 0.25em;\n",
       "  color: var(--sklearn-color-icon);\n",
       "}\n",
       "\n",
       "#sk-container-id-1 label.sk-toggleable__label-arrow:hover:before {\n",
       "  color: var(--sklearn-color-text);\n",
       "}\n",
       "\n",
       "/* Toggleable content - dropdown */\n",
       "\n",
       "#sk-container-id-1 div.sk-toggleable__content {\n",
       "  max-height: 0;\n",
       "  max-width: 0;\n",
       "  overflow: hidden;\n",
       "  text-align: left;\n",
       "  /* unfitted */\n",
       "  background-color: var(--sklearn-color-unfitted-level-0);\n",
       "}\n",
       "\n",
       "#sk-container-id-1 div.sk-toggleable__content.fitted {\n",
       "  /* fitted */\n",
       "  background-color: var(--sklearn-color-fitted-level-0);\n",
       "}\n",
       "\n",
       "#sk-container-id-1 div.sk-toggleable__content pre {\n",
       "  margin: 0.2em;\n",
       "  border-radius: 0.25em;\n",
       "  color: var(--sklearn-color-text);\n",
       "  /* unfitted */\n",
       "  background-color: var(--sklearn-color-unfitted-level-0);\n",
       "}\n",
       "\n",
       "#sk-container-id-1 div.sk-toggleable__content.fitted pre {\n",
       "  /* unfitted */\n",
       "  background-color: var(--sklearn-color-fitted-level-0);\n",
       "}\n",
       "\n",
       "#sk-container-id-1 input.sk-toggleable__control:checked~div.sk-toggleable__content {\n",
       "  /* Expand drop-down */\n",
       "  max-height: 200px;\n",
       "  max-width: 100%;\n",
       "  overflow: auto;\n",
       "}\n",
       "\n",
       "#sk-container-id-1 input.sk-toggleable__control:checked~label.sk-toggleable__label-arrow:before {\n",
       "  content: \"▾\";\n",
       "}\n",
       "\n",
       "/* Pipeline/ColumnTransformer-specific style */\n",
       "\n",
       "#sk-container-id-1 div.sk-label input.sk-toggleable__control:checked~label.sk-toggleable__label {\n",
       "  color: var(--sklearn-color-text);\n",
       "  background-color: var(--sklearn-color-unfitted-level-2);\n",
       "}\n",
       "\n",
       "#sk-container-id-1 div.sk-label.fitted input.sk-toggleable__control:checked~label.sk-toggleable__label {\n",
       "  background-color: var(--sklearn-color-fitted-level-2);\n",
       "}\n",
       "\n",
       "/* Estimator-specific style */\n",
       "\n",
       "/* Colorize estimator box */\n",
       "#sk-container-id-1 div.sk-estimator input.sk-toggleable__control:checked~label.sk-toggleable__label {\n",
       "  /* unfitted */\n",
       "  background-color: var(--sklearn-color-unfitted-level-2);\n",
       "}\n",
       "\n",
       "#sk-container-id-1 div.sk-estimator.fitted input.sk-toggleable__control:checked~label.sk-toggleable__label {\n",
       "  /* fitted */\n",
       "  background-color: var(--sklearn-color-fitted-level-2);\n",
       "}\n",
       "\n",
       "#sk-container-id-1 div.sk-label label.sk-toggleable__label,\n",
       "#sk-container-id-1 div.sk-label label {\n",
       "  /* The background is the default theme color */\n",
       "  color: var(--sklearn-color-text-on-default-background);\n",
       "}\n",
       "\n",
       "/* On hover, darken the color of the background */\n",
       "#sk-container-id-1 div.sk-label:hover label.sk-toggleable__label {\n",
       "  color: var(--sklearn-color-text);\n",
       "  background-color: var(--sklearn-color-unfitted-level-2);\n",
       "}\n",
       "\n",
       "/* Label box, darken color on hover, fitted */\n",
       "#sk-container-id-1 div.sk-label.fitted:hover label.sk-toggleable__label.fitted {\n",
       "  color: var(--sklearn-color-text);\n",
       "  background-color: var(--sklearn-color-fitted-level-2);\n",
       "}\n",
       "\n",
       "/* Estimator label */\n",
       "\n",
       "#sk-container-id-1 div.sk-label label {\n",
       "  font-family: monospace;\n",
       "  font-weight: bold;\n",
       "  display: inline-block;\n",
       "  line-height: 1.2em;\n",
       "}\n",
       "\n",
       "#sk-container-id-1 div.sk-label-container {\n",
       "  text-align: center;\n",
       "}\n",
       "\n",
       "/* Estimator-specific */\n",
       "#sk-container-id-1 div.sk-estimator {\n",
       "  font-family: monospace;\n",
       "  border: 1px dotted var(--sklearn-color-border-box);\n",
       "  border-radius: 0.25em;\n",
       "  box-sizing: border-box;\n",
       "  margin-bottom: 0.5em;\n",
       "  /* unfitted */\n",
       "  background-color: var(--sklearn-color-unfitted-level-0);\n",
       "}\n",
       "\n",
       "#sk-container-id-1 div.sk-estimator.fitted {\n",
       "  /* fitted */\n",
       "  background-color: var(--sklearn-color-fitted-level-0);\n",
       "}\n",
       "\n",
       "/* on hover */\n",
       "#sk-container-id-1 div.sk-estimator:hover {\n",
       "  /* unfitted */\n",
       "  background-color: var(--sklearn-color-unfitted-level-2);\n",
       "}\n",
       "\n",
       "#sk-container-id-1 div.sk-estimator.fitted:hover {\n",
       "  /* fitted */\n",
       "  background-color: var(--sklearn-color-fitted-level-2);\n",
       "}\n",
       "\n",
       "/* Specification for estimator info (e.g. \"i\" and \"?\") */\n",
       "\n",
       "/* Common style for \"i\" and \"?\" */\n",
       "\n",
       ".sk-estimator-doc-link,\n",
       "a:link.sk-estimator-doc-link,\n",
       "a:visited.sk-estimator-doc-link {\n",
       "  float: right;\n",
       "  font-size: smaller;\n",
       "  line-height: 1em;\n",
       "  font-family: monospace;\n",
       "  background-color: var(--sklearn-color-background);\n",
       "  border-radius: 1em;\n",
       "  height: 1em;\n",
       "  width: 1em;\n",
       "  text-decoration: none !important;\n",
       "  margin-left: 1ex;\n",
       "  /* unfitted */\n",
       "  border: var(--sklearn-color-unfitted-level-1) 1pt solid;\n",
       "  color: var(--sklearn-color-unfitted-level-1);\n",
       "}\n",
       "\n",
       ".sk-estimator-doc-link.fitted,\n",
       "a:link.sk-estimator-doc-link.fitted,\n",
       "a:visited.sk-estimator-doc-link.fitted {\n",
       "  /* fitted */\n",
       "  border: var(--sklearn-color-fitted-level-1) 1pt solid;\n",
       "  color: var(--sklearn-color-fitted-level-1);\n",
       "}\n",
       "\n",
       "/* On hover */\n",
       "div.sk-estimator:hover .sk-estimator-doc-link:hover,\n",
       ".sk-estimator-doc-link:hover,\n",
       "div.sk-label-container:hover .sk-estimator-doc-link:hover,\n",
       ".sk-estimator-doc-link:hover {\n",
       "  /* unfitted */\n",
       "  background-color: var(--sklearn-color-unfitted-level-3);\n",
       "  color: var(--sklearn-color-background);\n",
       "  text-decoration: none;\n",
       "}\n",
       "\n",
       "div.sk-estimator.fitted:hover .sk-estimator-doc-link.fitted:hover,\n",
       ".sk-estimator-doc-link.fitted:hover,\n",
       "div.sk-label-container:hover .sk-estimator-doc-link.fitted:hover,\n",
       ".sk-estimator-doc-link.fitted:hover {\n",
       "  /* fitted */\n",
       "  background-color: var(--sklearn-color-fitted-level-3);\n",
       "  color: var(--sklearn-color-background);\n",
       "  text-decoration: none;\n",
       "}\n",
       "\n",
       "/* Span, style for the box shown on hovering the info icon */\n",
       ".sk-estimator-doc-link span {\n",
       "  display: none;\n",
       "  z-index: 9999;\n",
       "  position: relative;\n",
       "  font-weight: normal;\n",
       "  right: .2ex;\n",
       "  padding: .5ex;\n",
       "  margin: .5ex;\n",
       "  width: min-content;\n",
       "  min-width: 20ex;\n",
       "  max-width: 50ex;\n",
       "  color: var(--sklearn-color-text);\n",
       "  box-shadow: 2pt 2pt 4pt #999;\n",
       "  /* unfitted */\n",
       "  background: var(--sklearn-color-unfitted-level-0);\n",
       "  border: .5pt solid var(--sklearn-color-unfitted-level-3);\n",
       "}\n",
       "\n",
       ".sk-estimator-doc-link.fitted span {\n",
       "  /* fitted */\n",
       "  background: var(--sklearn-color-fitted-level-0);\n",
       "  border: var(--sklearn-color-fitted-level-3);\n",
       "}\n",
       "\n",
       ".sk-estimator-doc-link:hover span {\n",
       "  display: block;\n",
       "}\n",
       "\n",
       "/* \"?\"-specific style due to the `<a>` HTML tag */\n",
       "\n",
       "#sk-container-id-1 a.estimator_doc_link {\n",
       "  float: right;\n",
       "  font-size: 1rem;\n",
       "  line-height: 1em;\n",
       "  font-family: monospace;\n",
       "  background-color: var(--sklearn-color-background);\n",
       "  border-radius: 1rem;\n",
       "  height: 1rem;\n",
       "  width: 1rem;\n",
       "  text-decoration: none;\n",
       "  /* unfitted */\n",
       "  color: var(--sklearn-color-unfitted-level-1);\n",
       "  border: var(--sklearn-color-unfitted-level-1) 1pt solid;\n",
       "}\n",
       "\n",
       "#sk-container-id-1 a.estimator_doc_link.fitted {\n",
       "  /* fitted */\n",
       "  border: var(--sklearn-color-fitted-level-1) 1pt solid;\n",
       "  color: var(--sklearn-color-fitted-level-1);\n",
       "}\n",
       "\n",
       "/* On hover */\n",
       "#sk-container-id-1 a.estimator_doc_link:hover {\n",
       "  /* unfitted */\n",
       "  background-color: var(--sklearn-color-unfitted-level-3);\n",
       "  color: var(--sklearn-color-background);\n",
       "  text-decoration: none;\n",
       "}\n",
       "\n",
       "#sk-container-id-1 a.estimator_doc_link.fitted:hover {\n",
       "  /* fitted */\n",
       "  background-color: var(--sklearn-color-fitted-level-3);\n",
       "}\n",
       "</style><div id=\"sk-container-id-1\" class=\"sk-top-container\"><div class=\"sk-text-repr-fallback\"><pre>NearestNeighbors(metric=&#x27;cosine&#x27;)</pre><b>In a Jupyter environment, please rerun this cell to show the HTML representation or trust the notebook. <br />On GitHub, the HTML representation is unable to render, please try loading this page with nbviewer.org.</b></div><div class=\"sk-container\" hidden><div class=\"sk-item\"><div class=\"sk-estimator fitted sk-toggleable\"><input class=\"sk-toggleable__control sk-hidden--visually\" id=\"sk-estimator-id-1\" type=\"checkbox\" checked><label for=\"sk-estimator-id-1\" class=\"sk-toggleable__label fitted sk-toggleable__label-arrow fitted\">&nbsp;&nbsp;NearestNeighbors<a class=\"sk-estimator-doc-link fitted\" rel=\"noreferrer\" target=\"_blank\" href=\"https://scikit-learn.org/1.4/modules/generated/sklearn.neighbors.NearestNeighbors.html\">?<span>Documentation for NearestNeighbors</span></a><span class=\"sk-estimator-doc-link fitted\">i<span>Fitted</span></span></label><div class=\"sk-toggleable__content fitted\"><pre>NearestNeighbors(metric=&#x27;cosine&#x27;)</pre></div> </div></div></div></div>"
      ],
      "text/plain": [
       "NearestNeighbors(metric='cosine')"
      ]
     },
     "execution_count": 82,
     "metadata": {},
     "output_type": "execute_result"
    }
   ],
   "source": [
    "# Initialize the KNN model with the number of neighbors\n",
    "knn = NearestNeighbors(n_neighbors=5, metric='cosine')\n",
    "\n",
    "# Fit the model on the customer-product feature matrix\n",
    "knn.fit(pivot_table)"
   ]
  },
  {
   "cell_type": "code",
   "execution_count": 83,
   "metadata": {
    "id": "MSNBo3c2m8T0"
   },
   "outputs": [
    {
     "name": "stdout",
     "output_type": "stream",
     "text": [
      "[('freight_value', 2)]\n"
     ]
    }
   ],
   "source": [
    "# Let's say you want to recommend products for a specific customer\n",
    "customer_id = '49383'  # Example customer ID\n",
    "\n",
    "# Find the nearest neighbors (products) for the customer\n",
    "distances, indices = knn.kneighbors(pivot_table.loc[customer_id].values.reshape(1, -1))\n",
    "\n",
    "# Get the recommended product IDs\n",
    "# recommended_product_ids = pivot_table.columns[indices.flatten()]\n",
    "recommended_product_ids = [pivot_table.columns[i] for i in indices.flatten() if i < len(pivot_table.columns)]\n",
    "print(recommended_product_ids)"
   ]
  },
  {
   "cell_type": "code",
   "execution_count": 84,
   "metadata": {},
   "outputs": [
    {
     "data": {
      "text/html": [
       "<div>\n",
       "<style scoped>\n",
       "    .dataframe tbody tr th:only-of-type {\n",
       "        vertical-align: middle;\n",
       "    }\n",
       "\n",
       "    .dataframe tbody tr th {\n",
       "        vertical-align: top;\n",
       "    }\n",
       "\n",
       "    .dataframe thead tr th {\n",
       "        text-align: left;\n",
       "    }\n",
       "\n",
       "    .dataframe thead tr:last-of-type th {\n",
       "        text-align: right;\n",
       "    }\n",
       "</style>\n",
       "<table border=\"1\" class=\"dataframe\">\n",
       "  <thead>\n",
       "    <tr>\n",
       "      <th></th>\n",
       "      <th colspan=\"10\" halign=\"left\">freight_value</th>\n",
       "      <th>...</th>\n",
       "      <th colspan=\"10\" halign=\"left\">price</th>\n",
       "    </tr>\n",
       "    <tr>\n",
       "      <th>product_id</th>\n",
       "      <th>2</th>\n",
       "      <th>5</th>\n",
       "      <th>6</th>\n",
       "      <th>8</th>\n",
       "      <th>11</th>\n",
       "      <th>12</th>\n",
       "      <th>14</th>\n",
       "      <th>15</th>\n",
       "      <th>18</th>\n",
       "      <th>21</th>\n",
       "      <th>...</th>\n",
       "      <th>13621</th>\n",
       "      <th>13682</th>\n",
       "      <th>14084</th>\n",
       "      <th>14495</th>\n",
       "      <th>17728</th>\n",
       "      <th>21006</th>\n",
       "      <th>22703</th>\n",
       "      <th>26862</th>\n",
       "      <th>26863</th>\n",
       "      <th>29749</th>\n",
       "    </tr>\n",
       "    <tr>\n",
       "      <th>customer_id</th>\n",
       "      <th></th>\n",
       "      <th></th>\n",
       "      <th></th>\n",
       "      <th></th>\n",
       "      <th></th>\n",
       "      <th></th>\n",
       "      <th></th>\n",
       "      <th></th>\n",
       "      <th></th>\n",
       "      <th></th>\n",
       "      <th></th>\n",
       "      <th></th>\n",
       "      <th></th>\n",
       "      <th></th>\n",
       "      <th></th>\n",
       "      <th></th>\n",
       "      <th></th>\n",
       "      <th></th>\n",
       "      <th></th>\n",
       "      <th></th>\n",
       "      <th></th>\n",
       "    </tr>\n",
       "  </thead>\n",
       "  <tbody>\n",
       "    <tr>\n",
       "      <th>100</th>\n",
       "      <td>0.0</td>\n",
       "      <td>0.0</td>\n",
       "      <td>0.0</td>\n",
       "      <td>0.0</td>\n",
       "      <td>0.0</td>\n",
       "      <td>0.0</td>\n",
       "      <td>0.0</td>\n",
       "      <td>0.0</td>\n",
       "      <td>0.0</td>\n",
       "      <td>0.0</td>\n",
       "      <td>...</td>\n",
       "      <td>0.0</td>\n",
       "      <td>0.0</td>\n",
       "      <td>0.0</td>\n",
       "      <td>0.0</td>\n",
       "      <td>0.0</td>\n",
       "      <td>0.0</td>\n",
       "      <td>0.0</td>\n",
       "      <td>0.0</td>\n",
       "      <td>0.0</td>\n",
       "      <td>0.0</td>\n",
       "    </tr>\n",
       "    <tr>\n",
       "      <th>1000</th>\n",
       "      <td>0.0</td>\n",
       "      <td>0.0</td>\n",
       "      <td>0.0</td>\n",
       "      <td>0.0</td>\n",
       "      <td>0.0</td>\n",
       "      <td>0.0</td>\n",
       "      <td>0.0</td>\n",
       "      <td>0.0</td>\n",
       "      <td>0.0</td>\n",
       "      <td>0.0</td>\n",
       "      <td>...</td>\n",
       "      <td>0.0</td>\n",
       "      <td>0.0</td>\n",
       "      <td>0.0</td>\n",
       "      <td>0.0</td>\n",
       "      <td>0.0</td>\n",
       "      <td>0.0</td>\n",
       "      <td>0.0</td>\n",
       "      <td>0.0</td>\n",
       "      <td>0.0</td>\n",
       "      <td>0.0</td>\n",
       "    </tr>\n",
       "    <tr>\n",
       "      <th>10005</th>\n",
       "      <td>0.0</td>\n",
       "      <td>0.0</td>\n",
       "      <td>0.0</td>\n",
       "      <td>0.0</td>\n",
       "      <td>0.0</td>\n",
       "      <td>0.0</td>\n",
       "      <td>0.0</td>\n",
       "      <td>0.0</td>\n",
       "      <td>0.0</td>\n",
       "      <td>0.0</td>\n",
       "      <td>...</td>\n",
       "      <td>0.0</td>\n",
       "      <td>0.0</td>\n",
       "      <td>0.0</td>\n",
       "      <td>0.0</td>\n",
       "      <td>0.0</td>\n",
       "      <td>0.0</td>\n",
       "      <td>0.0</td>\n",
       "      <td>0.0</td>\n",
       "      <td>0.0</td>\n",
       "      <td>0.0</td>\n",
       "    </tr>\n",
       "    <tr>\n",
       "      <th>10006</th>\n",
       "      <td>0.0</td>\n",
       "      <td>0.0</td>\n",
       "      <td>0.0</td>\n",
       "      <td>0.0</td>\n",
       "      <td>0.0</td>\n",
       "      <td>0.0</td>\n",
       "      <td>0.0</td>\n",
       "      <td>0.0</td>\n",
       "      <td>0.0</td>\n",
       "      <td>0.0</td>\n",
       "      <td>...</td>\n",
       "      <td>0.0</td>\n",
       "      <td>0.0</td>\n",
       "      <td>0.0</td>\n",
       "      <td>0.0</td>\n",
       "      <td>0.0</td>\n",
       "      <td>0.0</td>\n",
       "      <td>0.0</td>\n",
       "      <td>0.0</td>\n",
       "      <td>0.0</td>\n",
       "      <td>0.0</td>\n",
       "    </tr>\n",
       "    <tr>\n",
       "      <th>10012</th>\n",
       "      <td>0.0</td>\n",
       "      <td>0.0</td>\n",
       "      <td>0.0</td>\n",
       "      <td>0.0</td>\n",
       "      <td>0.0</td>\n",
       "      <td>0.0</td>\n",
       "      <td>0.0</td>\n",
       "      <td>0.0</td>\n",
       "      <td>0.0</td>\n",
       "      <td>0.0</td>\n",
       "      <td>...</td>\n",
       "      <td>0.0</td>\n",
       "      <td>0.0</td>\n",
       "      <td>0.0</td>\n",
       "      <td>0.0</td>\n",
       "      <td>0.0</td>\n",
       "      <td>0.0</td>\n",
       "      <td>0.0</td>\n",
       "      <td>0.0</td>\n",
       "      <td>0.0</td>\n",
       "      <td>0.0</td>\n",
       "    </tr>\n",
       "    <tr>\n",
       "      <th>...</th>\n",
       "      <td>...</td>\n",
       "      <td>...</td>\n",
       "      <td>...</td>\n",
       "      <td>...</td>\n",
       "      <td>...</td>\n",
       "      <td>...</td>\n",
       "      <td>...</td>\n",
       "      <td>...</td>\n",
       "      <td>...</td>\n",
       "      <td>...</td>\n",
       "      <td>...</td>\n",
       "      <td>...</td>\n",
       "      <td>...</td>\n",
       "      <td>...</td>\n",
       "      <td>...</td>\n",
       "      <td>...</td>\n",
       "      <td>...</td>\n",
       "      <td>...</td>\n",
       "      <td>...</td>\n",
       "      <td>...</td>\n",
       "      <td>...</td>\n",
       "    </tr>\n",
       "    <tr>\n",
       "      <th>9983</th>\n",
       "      <td>0.0</td>\n",
       "      <td>0.0</td>\n",
       "      <td>0.0</td>\n",
       "      <td>0.0</td>\n",
       "      <td>0.0</td>\n",
       "      <td>0.0</td>\n",
       "      <td>0.0</td>\n",
       "      <td>0.0</td>\n",
       "      <td>0.0</td>\n",
       "      <td>0.0</td>\n",
       "      <td>...</td>\n",
       "      <td>0.0</td>\n",
       "      <td>0.0</td>\n",
       "      <td>0.0</td>\n",
       "      <td>0.0</td>\n",
       "      <td>0.0</td>\n",
       "      <td>0.0</td>\n",
       "      <td>0.0</td>\n",
       "      <td>0.0</td>\n",
       "      <td>0.0</td>\n",
       "      <td>0.0</td>\n",
       "    </tr>\n",
       "    <tr>\n",
       "      <th>9984</th>\n",
       "      <td>0.0</td>\n",
       "      <td>0.0</td>\n",
       "      <td>0.0</td>\n",
       "      <td>0.0</td>\n",
       "      <td>0.0</td>\n",
       "      <td>0.0</td>\n",
       "      <td>0.0</td>\n",
       "      <td>0.0</td>\n",
       "      <td>0.0</td>\n",
       "      <td>0.0</td>\n",
       "      <td>...</td>\n",
       "      <td>0.0</td>\n",
       "      <td>0.0</td>\n",
       "      <td>0.0</td>\n",
       "      <td>0.0</td>\n",
       "      <td>0.0</td>\n",
       "      <td>0.0</td>\n",
       "      <td>0.0</td>\n",
       "      <td>0.0</td>\n",
       "      <td>0.0</td>\n",
       "      <td>0.0</td>\n",
       "    </tr>\n",
       "    <tr>\n",
       "      <th>999</th>\n",
       "      <td>0.0</td>\n",
       "      <td>0.0</td>\n",
       "      <td>0.0</td>\n",
       "      <td>0.0</td>\n",
       "      <td>0.0</td>\n",
       "      <td>0.0</td>\n",
       "      <td>0.0</td>\n",
       "      <td>0.0</td>\n",
       "      <td>0.0</td>\n",
       "      <td>0.0</td>\n",
       "      <td>...</td>\n",
       "      <td>0.0</td>\n",
       "      <td>0.0</td>\n",
       "      <td>0.0</td>\n",
       "      <td>0.0</td>\n",
       "      <td>0.0</td>\n",
       "      <td>0.0</td>\n",
       "      <td>0.0</td>\n",
       "      <td>0.0</td>\n",
       "      <td>0.0</td>\n",
       "      <td>0.0</td>\n",
       "    </tr>\n",
       "    <tr>\n",
       "      <th>9993</th>\n",
       "      <td>0.0</td>\n",
       "      <td>0.0</td>\n",
       "      <td>0.0</td>\n",
       "      <td>0.0</td>\n",
       "      <td>0.0</td>\n",
       "      <td>0.0</td>\n",
       "      <td>0.0</td>\n",
       "      <td>0.0</td>\n",
       "      <td>0.0</td>\n",
       "      <td>0.0</td>\n",
       "      <td>...</td>\n",
       "      <td>0.0</td>\n",
       "      <td>0.0</td>\n",
       "      <td>0.0</td>\n",
       "      <td>0.0</td>\n",
       "      <td>0.0</td>\n",
       "      <td>0.0</td>\n",
       "      <td>0.0</td>\n",
       "      <td>0.0</td>\n",
       "      <td>0.0</td>\n",
       "      <td>0.0</td>\n",
       "    </tr>\n",
       "    <tr>\n",
       "      <th>9997</th>\n",
       "      <td>0.0</td>\n",
       "      <td>0.0</td>\n",
       "      <td>0.0</td>\n",
       "      <td>0.0</td>\n",
       "      <td>0.0</td>\n",
       "      <td>0.0</td>\n",
       "      <td>0.0</td>\n",
       "      <td>0.0</td>\n",
       "      <td>0.0</td>\n",
       "      <td>0.0</td>\n",
       "      <td>...</td>\n",
       "      <td>0.0</td>\n",
       "      <td>0.0</td>\n",
       "      <td>0.0</td>\n",
       "      <td>0.0</td>\n",
       "      <td>0.0</td>\n",
       "      <td>0.0</td>\n",
       "      <td>0.0</td>\n",
       "      <td>0.0</td>\n",
       "      <td>0.0</td>\n",
       "      <td>0.0</td>\n",
       "    </tr>\n",
       "  </tbody>\n",
       "</table>\n",
       "<p>34376 rows × 3000 columns</p>\n",
       "</div>"
      ],
      "text/plain": [
       "            freight_value                                                  \\\n",
       "product_id          2     5     6     8     11    12    14    15    18      \n",
       "customer_id                                                                 \n",
       "100                   0.0   0.0   0.0   0.0   0.0   0.0   0.0   0.0   0.0   \n",
       "1000                  0.0   0.0   0.0   0.0   0.0   0.0   0.0   0.0   0.0   \n",
       "10005                 0.0   0.0   0.0   0.0   0.0   0.0   0.0   0.0   0.0   \n",
       "10006                 0.0   0.0   0.0   0.0   0.0   0.0   0.0   0.0   0.0   \n",
       "10012                 0.0   0.0   0.0   0.0   0.0   0.0   0.0   0.0   0.0   \n",
       "...                   ...   ...   ...   ...   ...   ...   ...   ...   ...   \n",
       "9983                  0.0   0.0   0.0   0.0   0.0   0.0   0.0   0.0   0.0   \n",
       "9984                  0.0   0.0   0.0   0.0   0.0   0.0   0.0   0.0   0.0   \n",
       "999                   0.0   0.0   0.0   0.0   0.0   0.0   0.0   0.0   0.0   \n",
       "9993                  0.0   0.0   0.0   0.0   0.0   0.0   0.0   0.0   0.0   \n",
       "9997                  0.0   0.0   0.0   0.0   0.0   0.0   0.0   0.0   0.0   \n",
       "\n",
       "                   ... price                                                  \\\n",
       "product_id  21     ... 13621 13682 14084 14495 17728 21006 22703 26862 26863   \n",
       "customer_id        ...                                                         \n",
       "100           0.0  ...   0.0   0.0   0.0   0.0   0.0   0.0   0.0   0.0   0.0   \n",
       "1000          0.0  ...   0.0   0.0   0.0   0.0   0.0   0.0   0.0   0.0   0.0   \n",
       "10005         0.0  ...   0.0   0.0   0.0   0.0   0.0   0.0   0.0   0.0   0.0   \n",
       "10006         0.0  ...   0.0   0.0   0.0   0.0   0.0   0.0   0.0   0.0   0.0   \n",
       "10012         0.0  ...   0.0   0.0   0.0   0.0   0.0   0.0   0.0   0.0   0.0   \n",
       "...           ...  ...   ...   ...   ...   ...   ...   ...   ...   ...   ...   \n",
       "9983          0.0  ...   0.0   0.0   0.0   0.0   0.0   0.0   0.0   0.0   0.0   \n",
       "9984          0.0  ...   0.0   0.0   0.0   0.0   0.0   0.0   0.0   0.0   0.0   \n",
       "999           0.0  ...   0.0   0.0   0.0   0.0   0.0   0.0   0.0   0.0   0.0   \n",
       "9993          0.0  ...   0.0   0.0   0.0   0.0   0.0   0.0   0.0   0.0   0.0   \n",
       "9997          0.0  ...   0.0   0.0   0.0   0.0   0.0   0.0   0.0   0.0   0.0   \n",
       "\n",
       "                   \n",
       "product_id  29749  \n",
       "customer_id        \n",
       "100           0.0  \n",
       "1000          0.0  \n",
       "10005         0.0  \n",
       "10006         0.0  \n",
       "10012         0.0  \n",
       "...           ...  \n",
       "9983          0.0  \n",
       "9984          0.0  \n",
       "999           0.0  \n",
       "9993          0.0  \n",
       "9997          0.0  \n",
       "\n",
       "[34376 rows x 3000 columns]"
      ]
     },
     "execution_count": 84,
     "metadata": {},
     "output_type": "execute_result"
    }
   ],
   "source": [
    "pivot_table"
   ]
  },
  {
   "cell_type": "code",
   "execution_count": 85,
   "metadata": {},
   "outputs": [
    {
     "data": {
      "text/html": [
       "<div>\n",
       "<style scoped>\n",
       "    .dataframe tbody tr th:only-of-type {\n",
       "        vertical-align: middle;\n",
       "    }\n",
       "\n",
       "    .dataframe tbody tr th {\n",
       "        vertical-align: top;\n",
       "    }\n",
       "\n",
       "    .dataframe thead th {\n",
       "        text-align: right;\n",
       "    }\n",
       "</style>\n",
       "<table border=\"1\" class=\"dataframe\">\n",
       "  <thead>\n",
       "    <tr style=\"text-align: right;\">\n",
       "      <th></th>\n",
       "      <th>product_id</th>\n",
       "      <th>price</th>\n",
       "    </tr>\n",
       "  </thead>\n",
       "  <tbody>\n",
       "    <tr>\n",
       "      <th>1208</th>\n",
       "      <td>944</td>\n",
       "      <td>39.9</td>\n",
       "    </tr>\n",
       "  </tbody>\n",
       "</table>\n",
       "</div>"
      ],
      "text/plain": [
       "      product_id  price\n",
       "1208         944   39.9"
      ]
     },
     "execution_count": 85,
     "metadata": {},
     "output_type": "execute_result"
    }
   ],
   "source": [
    "# Get the index of the customer_id in your pivot_table\n",
    "customer_index = pivot_table.index.get_loc('1000')\n",
    "\n",
    "# Get the customer feature vector\n",
    "customer_vector = pivot_table.iloc[customer_index].values.reshape(1, -1)\n",
    "\n",
    "# Find the 5 nearest neighbors\n",
    "distances, indices = knn.kneighbors(customer_vector)\n",
    "\n",
    "# Retrieve the customer IDs of the nearest neighbors\n",
    "nearest_customers = pivot_table.index[indices.flatten()]\n",
    "\n",
    "# Print the customer IDs of the nearest neighbors\n",
    "# print(\"Nearest customers to '100':\")\n",
    "# for customer in nearest_customers:\n",
    "#     print(f\"Customer ID: {customer}\")\n",
    "\n",
    "# recommended_products = df_recommendation[df_recommendation['customer_id'].isin(nearest_customers)][['product_id', 'price']]\n",
    "# recommended_products.head()\n",
    "\n",
    "# Filter the recommended products based on nearest customers\n",
    "recommended_products = df[df_recommendation['customer_id'].isin(nearest_customers)][['product_id', 'price']]\n",
    "\n",
    "# Get unique product IDs\n",
    "unique_products = recommended_products.drop_duplicates(subset='product_id')\n",
    "\n",
    "# Display unique products\n",
    "unique_products.head()"
   ]
  },
  {
   "cell_type": "code",
   "execution_count": 110,
   "metadata": {},
   "outputs": [
    {
     "data": {
      "text/plain": [
       "['knn_model.pkl']"
      ]
     },
     "execution_count": 110,
     "metadata": {},
     "output_type": "execute_result"
    }
   ],
   "source": [
    "import joblib\n",
    "joblib.dump(knn, 'knn_model.pkl')"
   ]
  },
  {
   "cell_type": "code",
   "execution_count": 111,
   "metadata": {},
   "outputs": [],
   "source": [
    "import pickle\n",
    "with open('knn_model.pkl', 'wb') as file:\n",
    "    pickle.dump((knn, pivot_table), file)"
   ]
  },
  {
   "cell_type": "code",
   "execution_count": 113,
   "metadata": {},
   "outputs": [],
   "source": [
    "with open('knn_model.pkl', 'rb') as file:\n",
    "    loaded_model, loaded_pivot_table = pickle.load(file)"
   ]
  },
  {
   "cell_type": "code",
   "execution_count": 140,
   "metadata": {},
   "outputs": [
    {
     "name": "stdout",
     "output_type": "stream",
     "text": [
      "['100', '53082', '49383', '58722', '68785']\n"
     ]
    }
   ],
   "source": [
    "customer_id = '100'  # Ensure this is a string, matching the label in the pivot table\n",
    "distance, indices = loaded_model.kneighbors(loaded_pivot_table.loc[customer_id, :].values.reshape(1, -1))\n",
    "nearest_neighbors = loaded_pivot_table.index[indices[0]].tolist()\n",
    "print(nearest_neighbors)"
   ]
  },
  {
   "cell_type": "code",
   "execution_count": 142,
   "metadata": {},
   "outputs": [
    {
     "name": "stdout",
     "output_type": "stream",
     "text": [
      "       product_id  price  product_category_name\n",
      "121           100  160.0  utilidades_domesticas\n",
      "82242        5096  169.0             automotivo\n"
     ]
    }
   ],
   "source": [
    "# Step 2: Filter the products data based on nearest neighbors\n",
    "product_info = df[df_recommendation['customer_id'].isin(nearest_neighbors)][['product_id', 'price', 'product_category_name']]\n",
    "\n",
    "# Get unique product IDs by dropping duplicates\n",
    "unique_product_info = product_info.drop_duplicates(subset='product_id')\n",
    "\n",
    "# Display the unique product information\n",
    "print(unique_product_info)"
   ]
  },
  {
   "cell_type": "code",
   "execution_count": 100,
   "metadata": {},
   "outputs": [],
   "source": [
    "pivot_table.to_csv(\"pivot_table.csv\")"
   ]
  },
  {
   "cell_type": "code",
   "execution_count": null,
   "metadata": {},
   "outputs": [],
   "source": []
  },
  {
   "cell_type": "code",
   "execution_count": null,
   "metadata": {},
   "outputs": [],
   "source": []
  }
 ],
 "metadata": {
  "accelerator": "GPU",
  "colab": {
   "gpuType": "T4",
   "provenance": []
  },
  "kernelspec": {
   "display_name": "Python 3 (ipykernel)",
   "language": "python",
   "name": "python3"
  },
  "language_info": {
   "codemirror_mode": {
    "name": "ipython",
    "version": 3
   },
   "file_extension": ".py",
   "mimetype": "text/x-python",
   "name": "python",
   "nbconvert_exporter": "python",
   "pygments_lexer": "ipython3",
   "version": "3.12.4"
  }
 },
 "nbformat": 4,
 "nbformat_minor": 4
}
